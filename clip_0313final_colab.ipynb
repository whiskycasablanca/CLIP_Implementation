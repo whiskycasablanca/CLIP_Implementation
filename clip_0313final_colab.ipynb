{
  "nbformat": 4,
  "nbformat_minor": 0,
  "metadata": {
    "colab": {
      "provenance": [],
      "gpuType": "T4",
      "authorship_tag": "ABX9TyOWumHQ/4NAtWror8F2QU5Z",
      "include_colab_link": true
    },
    "kernelspec": {
      "name": "python3",
      "display_name": "Python 3"
    },
    "language_info": {
      "name": "python"
    },
    "accelerator": "GPU",
    "widgets": {
      "application/vnd.jupyter.widget-state+json": {
        "8c2ff20c5ef245aa9ab965c675a89a7e": {
          "model_module": "@jupyter-widgets/controls",
          "model_name": "HBoxModel",
          "model_module_version": "1.5.0",
          "state": {
            "_dom_classes": [],
            "_model_module": "@jupyter-widgets/controls",
            "_model_module_version": "1.5.0",
            "_model_name": "HBoxModel",
            "_view_count": null,
            "_view_module": "@jupyter-widgets/controls",
            "_view_module_version": "1.5.0",
            "_view_name": "HBoxView",
            "box_style": "",
            "children": [
              "IPY_MODEL_ee936f8818cc43cb871ccc13dd541be2",
              "IPY_MODEL_e4281bc7fe9f4466b03eb708c1276f47",
              "IPY_MODEL_7d59de7f596e4277aa7dae767a49ef16"
            ],
            "layout": "IPY_MODEL_0c586a066f394005b4b97fd8be5dbc15"
          }
        },
        "ee936f8818cc43cb871ccc13dd541be2": {
          "model_module": "@jupyter-widgets/controls",
          "model_name": "HTMLModel",
          "model_module_version": "1.5.0",
          "state": {
            "_dom_classes": [],
            "_model_module": "@jupyter-widgets/controls",
            "_model_module_version": "1.5.0",
            "_model_name": "HTMLModel",
            "_view_count": null,
            "_view_module": "@jupyter-widgets/controls",
            "_view_module_version": "1.5.0",
            "_view_name": "HTMLView",
            "description": "",
            "description_tooltip": null,
            "layout": "IPY_MODEL_e1f5f54b86464f9ba8fcaac68b7420c7",
            "placeholder": "​",
            "style": "IPY_MODEL_61e62f6034a14c3f92e75b5b9ce383c3",
            "value": "tokenizer_config.json: 100%"
          }
        },
        "e4281bc7fe9f4466b03eb708c1276f47": {
          "model_module": "@jupyter-widgets/controls",
          "model_name": "FloatProgressModel",
          "model_module_version": "1.5.0",
          "state": {
            "_dom_classes": [],
            "_model_module": "@jupyter-widgets/controls",
            "_model_module_version": "1.5.0",
            "_model_name": "FloatProgressModel",
            "_view_count": null,
            "_view_module": "@jupyter-widgets/controls",
            "_view_module_version": "1.5.0",
            "_view_name": "ProgressView",
            "bar_style": "success",
            "description": "",
            "description_tooltip": null,
            "layout": "IPY_MODEL_17d4e861136348ada0801b02f20ba948",
            "max": 48,
            "min": 0,
            "orientation": "horizontal",
            "style": "IPY_MODEL_8645c26053454ef4a6d7a66b8008c60f",
            "value": 48
          }
        },
        "7d59de7f596e4277aa7dae767a49ef16": {
          "model_module": "@jupyter-widgets/controls",
          "model_name": "HTMLModel",
          "model_module_version": "1.5.0",
          "state": {
            "_dom_classes": [],
            "_model_module": "@jupyter-widgets/controls",
            "_model_module_version": "1.5.0",
            "_model_name": "HTMLModel",
            "_view_count": null,
            "_view_module": "@jupyter-widgets/controls",
            "_view_module_version": "1.5.0",
            "_view_name": "HTMLView",
            "description": "",
            "description_tooltip": null,
            "layout": "IPY_MODEL_fcaa0c33dd6d476fa0a2e6748ecb9ea0",
            "placeholder": "​",
            "style": "IPY_MODEL_c375f6b9f30b45238c3a3184a0da1ce5",
            "value": " 48.0/48.0 [00:00&lt;00:00, 3.94kB/s]"
          }
        },
        "0c586a066f394005b4b97fd8be5dbc15": {
          "model_module": "@jupyter-widgets/base",
          "model_name": "LayoutModel",
          "model_module_version": "1.2.0",
          "state": {
            "_model_module": "@jupyter-widgets/base",
            "_model_module_version": "1.2.0",
            "_model_name": "LayoutModel",
            "_view_count": null,
            "_view_module": "@jupyter-widgets/base",
            "_view_module_version": "1.2.0",
            "_view_name": "LayoutView",
            "align_content": null,
            "align_items": null,
            "align_self": null,
            "border": null,
            "bottom": null,
            "display": null,
            "flex": null,
            "flex_flow": null,
            "grid_area": null,
            "grid_auto_columns": null,
            "grid_auto_flow": null,
            "grid_auto_rows": null,
            "grid_column": null,
            "grid_gap": null,
            "grid_row": null,
            "grid_template_areas": null,
            "grid_template_columns": null,
            "grid_template_rows": null,
            "height": null,
            "justify_content": null,
            "justify_items": null,
            "left": null,
            "margin": null,
            "max_height": null,
            "max_width": null,
            "min_height": null,
            "min_width": null,
            "object_fit": null,
            "object_position": null,
            "order": null,
            "overflow": null,
            "overflow_x": null,
            "overflow_y": null,
            "padding": null,
            "right": null,
            "top": null,
            "visibility": null,
            "width": null
          }
        },
        "e1f5f54b86464f9ba8fcaac68b7420c7": {
          "model_module": "@jupyter-widgets/base",
          "model_name": "LayoutModel",
          "model_module_version": "1.2.0",
          "state": {
            "_model_module": "@jupyter-widgets/base",
            "_model_module_version": "1.2.0",
            "_model_name": "LayoutModel",
            "_view_count": null,
            "_view_module": "@jupyter-widgets/base",
            "_view_module_version": "1.2.0",
            "_view_name": "LayoutView",
            "align_content": null,
            "align_items": null,
            "align_self": null,
            "border": null,
            "bottom": null,
            "display": null,
            "flex": null,
            "flex_flow": null,
            "grid_area": null,
            "grid_auto_columns": null,
            "grid_auto_flow": null,
            "grid_auto_rows": null,
            "grid_column": null,
            "grid_gap": null,
            "grid_row": null,
            "grid_template_areas": null,
            "grid_template_columns": null,
            "grid_template_rows": null,
            "height": null,
            "justify_content": null,
            "justify_items": null,
            "left": null,
            "margin": null,
            "max_height": null,
            "max_width": null,
            "min_height": null,
            "min_width": null,
            "object_fit": null,
            "object_position": null,
            "order": null,
            "overflow": null,
            "overflow_x": null,
            "overflow_y": null,
            "padding": null,
            "right": null,
            "top": null,
            "visibility": null,
            "width": null
          }
        },
        "61e62f6034a14c3f92e75b5b9ce383c3": {
          "model_module": "@jupyter-widgets/controls",
          "model_name": "DescriptionStyleModel",
          "model_module_version": "1.5.0",
          "state": {
            "_model_module": "@jupyter-widgets/controls",
            "_model_module_version": "1.5.0",
            "_model_name": "DescriptionStyleModel",
            "_view_count": null,
            "_view_module": "@jupyter-widgets/base",
            "_view_module_version": "1.2.0",
            "_view_name": "StyleView",
            "description_width": ""
          }
        },
        "17d4e861136348ada0801b02f20ba948": {
          "model_module": "@jupyter-widgets/base",
          "model_name": "LayoutModel",
          "model_module_version": "1.2.0",
          "state": {
            "_model_module": "@jupyter-widgets/base",
            "_model_module_version": "1.2.0",
            "_model_name": "LayoutModel",
            "_view_count": null,
            "_view_module": "@jupyter-widgets/base",
            "_view_module_version": "1.2.0",
            "_view_name": "LayoutView",
            "align_content": null,
            "align_items": null,
            "align_self": null,
            "border": null,
            "bottom": null,
            "display": null,
            "flex": null,
            "flex_flow": null,
            "grid_area": null,
            "grid_auto_columns": null,
            "grid_auto_flow": null,
            "grid_auto_rows": null,
            "grid_column": null,
            "grid_gap": null,
            "grid_row": null,
            "grid_template_areas": null,
            "grid_template_columns": null,
            "grid_template_rows": null,
            "height": null,
            "justify_content": null,
            "justify_items": null,
            "left": null,
            "margin": null,
            "max_height": null,
            "max_width": null,
            "min_height": null,
            "min_width": null,
            "object_fit": null,
            "object_position": null,
            "order": null,
            "overflow": null,
            "overflow_x": null,
            "overflow_y": null,
            "padding": null,
            "right": null,
            "top": null,
            "visibility": null,
            "width": null
          }
        },
        "8645c26053454ef4a6d7a66b8008c60f": {
          "model_module": "@jupyter-widgets/controls",
          "model_name": "ProgressStyleModel",
          "model_module_version": "1.5.0",
          "state": {
            "_model_module": "@jupyter-widgets/controls",
            "_model_module_version": "1.5.0",
            "_model_name": "ProgressStyleModel",
            "_view_count": null,
            "_view_module": "@jupyter-widgets/base",
            "_view_module_version": "1.2.0",
            "_view_name": "StyleView",
            "bar_color": null,
            "description_width": ""
          }
        },
        "fcaa0c33dd6d476fa0a2e6748ecb9ea0": {
          "model_module": "@jupyter-widgets/base",
          "model_name": "LayoutModel",
          "model_module_version": "1.2.0",
          "state": {
            "_model_module": "@jupyter-widgets/base",
            "_model_module_version": "1.2.0",
            "_model_name": "LayoutModel",
            "_view_count": null,
            "_view_module": "@jupyter-widgets/base",
            "_view_module_version": "1.2.0",
            "_view_name": "LayoutView",
            "align_content": null,
            "align_items": null,
            "align_self": null,
            "border": null,
            "bottom": null,
            "display": null,
            "flex": null,
            "flex_flow": null,
            "grid_area": null,
            "grid_auto_columns": null,
            "grid_auto_flow": null,
            "grid_auto_rows": null,
            "grid_column": null,
            "grid_gap": null,
            "grid_row": null,
            "grid_template_areas": null,
            "grid_template_columns": null,
            "grid_template_rows": null,
            "height": null,
            "justify_content": null,
            "justify_items": null,
            "left": null,
            "margin": null,
            "max_height": null,
            "max_width": null,
            "min_height": null,
            "min_width": null,
            "object_fit": null,
            "object_position": null,
            "order": null,
            "overflow": null,
            "overflow_x": null,
            "overflow_y": null,
            "padding": null,
            "right": null,
            "top": null,
            "visibility": null,
            "width": null
          }
        },
        "c375f6b9f30b45238c3a3184a0da1ce5": {
          "model_module": "@jupyter-widgets/controls",
          "model_name": "DescriptionStyleModel",
          "model_module_version": "1.5.0",
          "state": {
            "_model_module": "@jupyter-widgets/controls",
            "_model_module_version": "1.5.0",
            "_model_name": "DescriptionStyleModel",
            "_view_count": null,
            "_view_module": "@jupyter-widgets/base",
            "_view_module_version": "1.2.0",
            "_view_name": "StyleView",
            "description_width": ""
          }
        },
        "ce10cca7e1174d4aa68579a61a67221c": {
          "model_module": "@jupyter-widgets/controls",
          "model_name": "HBoxModel",
          "model_module_version": "1.5.0",
          "state": {
            "_dom_classes": [],
            "_model_module": "@jupyter-widgets/controls",
            "_model_module_version": "1.5.0",
            "_model_name": "HBoxModel",
            "_view_count": null,
            "_view_module": "@jupyter-widgets/controls",
            "_view_module_version": "1.5.0",
            "_view_name": "HBoxView",
            "box_style": "",
            "children": [
              "IPY_MODEL_b4261fe57c754e36b67eb0c6029a7b9c",
              "IPY_MODEL_d01751ca649d4fe193d3f1c377c5a114",
              "IPY_MODEL_51950fa39b194edaba270aa4e37ff96e"
            ],
            "layout": "IPY_MODEL_b2dc4e07aacd4a94b00d64661148b95f"
          }
        },
        "b4261fe57c754e36b67eb0c6029a7b9c": {
          "model_module": "@jupyter-widgets/controls",
          "model_name": "HTMLModel",
          "model_module_version": "1.5.0",
          "state": {
            "_dom_classes": [],
            "_model_module": "@jupyter-widgets/controls",
            "_model_module_version": "1.5.0",
            "_model_name": "HTMLModel",
            "_view_count": null,
            "_view_module": "@jupyter-widgets/controls",
            "_view_module_version": "1.5.0",
            "_view_name": "HTMLView",
            "description": "",
            "description_tooltip": null,
            "layout": "IPY_MODEL_c9a4d5824f6a4771a9ed5964da1bd910",
            "placeholder": "​",
            "style": "IPY_MODEL_73896cbec3904fb68eb1d36da64bf8d0",
            "value": "vocab.txt: 100%"
          }
        },
        "d01751ca649d4fe193d3f1c377c5a114": {
          "model_module": "@jupyter-widgets/controls",
          "model_name": "FloatProgressModel",
          "model_module_version": "1.5.0",
          "state": {
            "_dom_classes": [],
            "_model_module": "@jupyter-widgets/controls",
            "_model_module_version": "1.5.0",
            "_model_name": "FloatProgressModel",
            "_view_count": null,
            "_view_module": "@jupyter-widgets/controls",
            "_view_module_version": "1.5.0",
            "_view_name": "ProgressView",
            "bar_style": "success",
            "description": "",
            "description_tooltip": null,
            "layout": "IPY_MODEL_21b9933b4aa140eeb435d3f2911d0e79",
            "max": 231508,
            "min": 0,
            "orientation": "horizontal",
            "style": "IPY_MODEL_8b98149bfc11479298ff7de2c12875d6",
            "value": 231508
          }
        },
        "51950fa39b194edaba270aa4e37ff96e": {
          "model_module": "@jupyter-widgets/controls",
          "model_name": "HTMLModel",
          "model_module_version": "1.5.0",
          "state": {
            "_dom_classes": [],
            "_model_module": "@jupyter-widgets/controls",
            "_model_module_version": "1.5.0",
            "_model_name": "HTMLModel",
            "_view_count": null,
            "_view_module": "@jupyter-widgets/controls",
            "_view_module_version": "1.5.0",
            "_view_name": "HTMLView",
            "description": "",
            "description_tooltip": null,
            "layout": "IPY_MODEL_7bbc36a80fa24c66ab3e2edb87c815b6",
            "placeholder": "​",
            "style": "IPY_MODEL_e7dcc24fc1c94792ba3a96cddda12e61",
            "value": " 232k/232k [00:00&lt;00:00, 2.12MB/s]"
          }
        },
        "b2dc4e07aacd4a94b00d64661148b95f": {
          "model_module": "@jupyter-widgets/base",
          "model_name": "LayoutModel",
          "model_module_version": "1.2.0",
          "state": {
            "_model_module": "@jupyter-widgets/base",
            "_model_module_version": "1.2.0",
            "_model_name": "LayoutModel",
            "_view_count": null,
            "_view_module": "@jupyter-widgets/base",
            "_view_module_version": "1.2.0",
            "_view_name": "LayoutView",
            "align_content": null,
            "align_items": null,
            "align_self": null,
            "border": null,
            "bottom": null,
            "display": null,
            "flex": null,
            "flex_flow": null,
            "grid_area": null,
            "grid_auto_columns": null,
            "grid_auto_flow": null,
            "grid_auto_rows": null,
            "grid_column": null,
            "grid_gap": null,
            "grid_row": null,
            "grid_template_areas": null,
            "grid_template_columns": null,
            "grid_template_rows": null,
            "height": null,
            "justify_content": null,
            "justify_items": null,
            "left": null,
            "margin": null,
            "max_height": null,
            "max_width": null,
            "min_height": null,
            "min_width": null,
            "object_fit": null,
            "object_position": null,
            "order": null,
            "overflow": null,
            "overflow_x": null,
            "overflow_y": null,
            "padding": null,
            "right": null,
            "top": null,
            "visibility": null,
            "width": null
          }
        },
        "c9a4d5824f6a4771a9ed5964da1bd910": {
          "model_module": "@jupyter-widgets/base",
          "model_name": "LayoutModel",
          "model_module_version": "1.2.0",
          "state": {
            "_model_module": "@jupyter-widgets/base",
            "_model_module_version": "1.2.0",
            "_model_name": "LayoutModel",
            "_view_count": null,
            "_view_module": "@jupyter-widgets/base",
            "_view_module_version": "1.2.0",
            "_view_name": "LayoutView",
            "align_content": null,
            "align_items": null,
            "align_self": null,
            "border": null,
            "bottom": null,
            "display": null,
            "flex": null,
            "flex_flow": null,
            "grid_area": null,
            "grid_auto_columns": null,
            "grid_auto_flow": null,
            "grid_auto_rows": null,
            "grid_column": null,
            "grid_gap": null,
            "grid_row": null,
            "grid_template_areas": null,
            "grid_template_columns": null,
            "grid_template_rows": null,
            "height": null,
            "justify_content": null,
            "justify_items": null,
            "left": null,
            "margin": null,
            "max_height": null,
            "max_width": null,
            "min_height": null,
            "min_width": null,
            "object_fit": null,
            "object_position": null,
            "order": null,
            "overflow": null,
            "overflow_x": null,
            "overflow_y": null,
            "padding": null,
            "right": null,
            "top": null,
            "visibility": null,
            "width": null
          }
        },
        "73896cbec3904fb68eb1d36da64bf8d0": {
          "model_module": "@jupyter-widgets/controls",
          "model_name": "DescriptionStyleModel",
          "model_module_version": "1.5.0",
          "state": {
            "_model_module": "@jupyter-widgets/controls",
            "_model_module_version": "1.5.0",
            "_model_name": "DescriptionStyleModel",
            "_view_count": null,
            "_view_module": "@jupyter-widgets/base",
            "_view_module_version": "1.2.0",
            "_view_name": "StyleView",
            "description_width": ""
          }
        },
        "21b9933b4aa140eeb435d3f2911d0e79": {
          "model_module": "@jupyter-widgets/base",
          "model_name": "LayoutModel",
          "model_module_version": "1.2.0",
          "state": {
            "_model_module": "@jupyter-widgets/base",
            "_model_module_version": "1.2.0",
            "_model_name": "LayoutModel",
            "_view_count": null,
            "_view_module": "@jupyter-widgets/base",
            "_view_module_version": "1.2.0",
            "_view_name": "LayoutView",
            "align_content": null,
            "align_items": null,
            "align_self": null,
            "border": null,
            "bottom": null,
            "display": null,
            "flex": null,
            "flex_flow": null,
            "grid_area": null,
            "grid_auto_columns": null,
            "grid_auto_flow": null,
            "grid_auto_rows": null,
            "grid_column": null,
            "grid_gap": null,
            "grid_row": null,
            "grid_template_areas": null,
            "grid_template_columns": null,
            "grid_template_rows": null,
            "height": null,
            "justify_content": null,
            "justify_items": null,
            "left": null,
            "margin": null,
            "max_height": null,
            "max_width": null,
            "min_height": null,
            "min_width": null,
            "object_fit": null,
            "object_position": null,
            "order": null,
            "overflow": null,
            "overflow_x": null,
            "overflow_y": null,
            "padding": null,
            "right": null,
            "top": null,
            "visibility": null,
            "width": null
          }
        },
        "8b98149bfc11479298ff7de2c12875d6": {
          "model_module": "@jupyter-widgets/controls",
          "model_name": "ProgressStyleModel",
          "model_module_version": "1.5.0",
          "state": {
            "_model_module": "@jupyter-widgets/controls",
            "_model_module_version": "1.5.0",
            "_model_name": "ProgressStyleModel",
            "_view_count": null,
            "_view_module": "@jupyter-widgets/base",
            "_view_module_version": "1.2.0",
            "_view_name": "StyleView",
            "bar_color": null,
            "description_width": ""
          }
        },
        "7bbc36a80fa24c66ab3e2edb87c815b6": {
          "model_module": "@jupyter-widgets/base",
          "model_name": "LayoutModel",
          "model_module_version": "1.2.0",
          "state": {
            "_model_module": "@jupyter-widgets/base",
            "_model_module_version": "1.2.0",
            "_model_name": "LayoutModel",
            "_view_count": null,
            "_view_module": "@jupyter-widgets/base",
            "_view_module_version": "1.2.0",
            "_view_name": "LayoutView",
            "align_content": null,
            "align_items": null,
            "align_self": null,
            "border": null,
            "bottom": null,
            "display": null,
            "flex": null,
            "flex_flow": null,
            "grid_area": null,
            "grid_auto_columns": null,
            "grid_auto_flow": null,
            "grid_auto_rows": null,
            "grid_column": null,
            "grid_gap": null,
            "grid_row": null,
            "grid_template_areas": null,
            "grid_template_columns": null,
            "grid_template_rows": null,
            "height": null,
            "justify_content": null,
            "justify_items": null,
            "left": null,
            "margin": null,
            "max_height": null,
            "max_width": null,
            "min_height": null,
            "min_width": null,
            "object_fit": null,
            "object_position": null,
            "order": null,
            "overflow": null,
            "overflow_x": null,
            "overflow_y": null,
            "padding": null,
            "right": null,
            "top": null,
            "visibility": null,
            "width": null
          }
        },
        "e7dcc24fc1c94792ba3a96cddda12e61": {
          "model_module": "@jupyter-widgets/controls",
          "model_name": "DescriptionStyleModel",
          "model_module_version": "1.5.0",
          "state": {
            "_model_module": "@jupyter-widgets/controls",
            "_model_module_version": "1.5.0",
            "_model_name": "DescriptionStyleModel",
            "_view_count": null,
            "_view_module": "@jupyter-widgets/base",
            "_view_module_version": "1.2.0",
            "_view_name": "StyleView",
            "description_width": ""
          }
        },
        "b72c2b1f613545fc87a034a008b25471": {
          "model_module": "@jupyter-widgets/controls",
          "model_name": "HBoxModel",
          "model_module_version": "1.5.0",
          "state": {
            "_dom_classes": [],
            "_model_module": "@jupyter-widgets/controls",
            "_model_module_version": "1.5.0",
            "_model_name": "HBoxModel",
            "_view_count": null,
            "_view_module": "@jupyter-widgets/controls",
            "_view_module_version": "1.5.0",
            "_view_name": "HBoxView",
            "box_style": "",
            "children": [
              "IPY_MODEL_af0986243cd54e909d5457cd63f85357",
              "IPY_MODEL_3eac48c10ea14751b90696db38456979",
              "IPY_MODEL_343df8cc95244209abf77606e3833eec"
            ],
            "layout": "IPY_MODEL_03567cbebf034b8384dfa15f2606c538"
          }
        },
        "af0986243cd54e909d5457cd63f85357": {
          "model_module": "@jupyter-widgets/controls",
          "model_name": "HTMLModel",
          "model_module_version": "1.5.0",
          "state": {
            "_dom_classes": [],
            "_model_module": "@jupyter-widgets/controls",
            "_model_module_version": "1.5.0",
            "_model_name": "HTMLModel",
            "_view_count": null,
            "_view_module": "@jupyter-widgets/controls",
            "_view_module_version": "1.5.0",
            "_view_name": "HTMLView",
            "description": "",
            "description_tooltip": null,
            "layout": "IPY_MODEL_72404b1627d44650bfb935f57710850d",
            "placeholder": "​",
            "style": "IPY_MODEL_c7810324c3e94f538b428183c03ce26b",
            "value": "tokenizer.json: 100%"
          }
        },
        "3eac48c10ea14751b90696db38456979": {
          "model_module": "@jupyter-widgets/controls",
          "model_name": "FloatProgressModel",
          "model_module_version": "1.5.0",
          "state": {
            "_dom_classes": [],
            "_model_module": "@jupyter-widgets/controls",
            "_model_module_version": "1.5.0",
            "_model_name": "FloatProgressModel",
            "_view_count": null,
            "_view_module": "@jupyter-widgets/controls",
            "_view_module_version": "1.5.0",
            "_view_name": "ProgressView",
            "bar_style": "success",
            "description": "",
            "description_tooltip": null,
            "layout": "IPY_MODEL_dc7062afebba4373ae05f50dab4179c1",
            "max": 466062,
            "min": 0,
            "orientation": "horizontal",
            "style": "IPY_MODEL_0a8c4ef92c1b4a1eaa9ffdd5d0f8460f",
            "value": 466062
          }
        },
        "343df8cc95244209abf77606e3833eec": {
          "model_module": "@jupyter-widgets/controls",
          "model_name": "HTMLModel",
          "model_module_version": "1.5.0",
          "state": {
            "_dom_classes": [],
            "_model_module": "@jupyter-widgets/controls",
            "_model_module_version": "1.5.0",
            "_model_name": "HTMLModel",
            "_view_count": null,
            "_view_module": "@jupyter-widgets/controls",
            "_view_module_version": "1.5.0",
            "_view_name": "HTMLView",
            "description": "",
            "description_tooltip": null,
            "layout": "IPY_MODEL_d9dd30876dcd44a38836a9d45dd21a3e",
            "placeholder": "​",
            "style": "IPY_MODEL_598fe62a1a704f9e908ddb3f05936f02",
            "value": " 466k/466k [00:00&lt;00:00, 7.28MB/s]"
          }
        },
        "03567cbebf034b8384dfa15f2606c538": {
          "model_module": "@jupyter-widgets/base",
          "model_name": "LayoutModel",
          "model_module_version": "1.2.0",
          "state": {
            "_model_module": "@jupyter-widgets/base",
            "_model_module_version": "1.2.0",
            "_model_name": "LayoutModel",
            "_view_count": null,
            "_view_module": "@jupyter-widgets/base",
            "_view_module_version": "1.2.0",
            "_view_name": "LayoutView",
            "align_content": null,
            "align_items": null,
            "align_self": null,
            "border": null,
            "bottom": null,
            "display": null,
            "flex": null,
            "flex_flow": null,
            "grid_area": null,
            "grid_auto_columns": null,
            "grid_auto_flow": null,
            "grid_auto_rows": null,
            "grid_column": null,
            "grid_gap": null,
            "grid_row": null,
            "grid_template_areas": null,
            "grid_template_columns": null,
            "grid_template_rows": null,
            "height": null,
            "justify_content": null,
            "justify_items": null,
            "left": null,
            "margin": null,
            "max_height": null,
            "max_width": null,
            "min_height": null,
            "min_width": null,
            "object_fit": null,
            "object_position": null,
            "order": null,
            "overflow": null,
            "overflow_x": null,
            "overflow_y": null,
            "padding": null,
            "right": null,
            "top": null,
            "visibility": null,
            "width": null
          }
        },
        "72404b1627d44650bfb935f57710850d": {
          "model_module": "@jupyter-widgets/base",
          "model_name": "LayoutModel",
          "model_module_version": "1.2.0",
          "state": {
            "_model_module": "@jupyter-widgets/base",
            "_model_module_version": "1.2.0",
            "_model_name": "LayoutModel",
            "_view_count": null,
            "_view_module": "@jupyter-widgets/base",
            "_view_module_version": "1.2.0",
            "_view_name": "LayoutView",
            "align_content": null,
            "align_items": null,
            "align_self": null,
            "border": null,
            "bottom": null,
            "display": null,
            "flex": null,
            "flex_flow": null,
            "grid_area": null,
            "grid_auto_columns": null,
            "grid_auto_flow": null,
            "grid_auto_rows": null,
            "grid_column": null,
            "grid_gap": null,
            "grid_row": null,
            "grid_template_areas": null,
            "grid_template_columns": null,
            "grid_template_rows": null,
            "height": null,
            "justify_content": null,
            "justify_items": null,
            "left": null,
            "margin": null,
            "max_height": null,
            "max_width": null,
            "min_height": null,
            "min_width": null,
            "object_fit": null,
            "object_position": null,
            "order": null,
            "overflow": null,
            "overflow_x": null,
            "overflow_y": null,
            "padding": null,
            "right": null,
            "top": null,
            "visibility": null,
            "width": null
          }
        },
        "c7810324c3e94f538b428183c03ce26b": {
          "model_module": "@jupyter-widgets/controls",
          "model_name": "DescriptionStyleModel",
          "model_module_version": "1.5.0",
          "state": {
            "_model_module": "@jupyter-widgets/controls",
            "_model_module_version": "1.5.0",
            "_model_name": "DescriptionStyleModel",
            "_view_count": null,
            "_view_module": "@jupyter-widgets/base",
            "_view_module_version": "1.2.0",
            "_view_name": "StyleView",
            "description_width": ""
          }
        },
        "dc7062afebba4373ae05f50dab4179c1": {
          "model_module": "@jupyter-widgets/base",
          "model_name": "LayoutModel",
          "model_module_version": "1.2.0",
          "state": {
            "_model_module": "@jupyter-widgets/base",
            "_model_module_version": "1.2.0",
            "_model_name": "LayoutModel",
            "_view_count": null,
            "_view_module": "@jupyter-widgets/base",
            "_view_module_version": "1.2.0",
            "_view_name": "LayoutView",
            "align_content": null,
            "align_items": null,
            "align_self": null,
            "border": null,
            "bottom": null,
            "display": null,
            "flex": null,
            "flex_flow": null,
            "grid_area": null,
            "grid_auto_columns": null,
            "grid_auto_flow": null,
            "grid_auto_rows": null,
            "grid_column": null,
            "grid_gap": null,
            "grid_row": null,
            "grid_template_areas": null,
            "grid_template_columns": null,
            "grid_template_rows": null,
            "height": null,
            "justify_content": null,
            "justify_items": null,
            "left": null,
            "margin": null,
            "max_height": null,
            "max_width": null,
            "min_height": null,
            "min_width": null,
            "object_fit": null,
            "object_position": null,
            "order": null,
            "overflow": null,
            "overflow_x": null,
            "overflow_y": null,
            "padding": null,
            "right": null,
            "top": null,
            "visibility": null,
            "width": null
          }
        },
        "0a8c4ef92c1b4a1eaa9ffdd5d0f8460f": {
          "model_module": "@jupyter-widgets/controls",
          "model_name": "ProgressStyleModel",
          "model_module_version": "1.5.0",
          "state": {
            "_model_module": "@jupyter-widgets/controls",
            "_model_module_version": "1.5.0",
            "_model_name": "ProgressStyleModel",
            "_view_count": null,
            "_view_module": "@jupyter-widgets/base",
            "_view_module_version": "1.2.0",
            "_view_name": "StyleView",
            "bar_color": null,
            "description_width": ""
          }
        },
        "d9dd30876dcd44a38836a9d45dd21a3e": {
          "model_module": "@jupyter-widgets/base",
          "model_name": "LayoutModel",
          "model_module_version": "1.2.0",
          "state": {
            "_model_module": "@jupyter-widgets/base",
            "_model_module_version": "1.2.0",
            "_model_name": "LayoutModel",
            "_view_count": null,
            "_view_module": "@jupyter-widgets/base",
            "_view_module_version": "1.2.0",
            "_view_name": "LayoutView",
            "align_content": null,
            "align_items": null,
            "align_self": null,
            "border": null,
            "bottom": null,
            "display": null,
            "flex": null,
            "flex_flow": null,
            "grid_area": null,
            "grid_auto_columns": null,
            "grid_auto_flow": null,
            "grid_auto_rows": null,
            "grid_column": null,
            "grid_gap": null,
            "grid_row": null,
            "grid_template_areas": null,
            "grid_template_columns": null,
            "grid_template_rows": null,
            "height": null,
            "justify_content": null,
            "justify_items": null,
            "left": null,
            "margin": null,
            "max_height": null,
            "max_width": null,
            "min_height": null,
            "min_width": null,
            "object_fit": null,
            "object_position": null,
            "order": null,
            "overflow": null,
            "overflow_x": null,
            "overflow_y": null,
            "padding": null,
            "right": null,
            "top": null,
            "visibility": null,
            "width": null
          }
        },
        "598fe62a1a704f9e908ddb3f05936f02": {
          "model_module": "@jupyter-widgets/controls",
          "model_name": "DescriptionStyleModel",
          "model_module_version": "1.5.0",
          "state": {
            "_model_module": "@jupyter-widgets/controls",
            "_model_module_version": "1.5.0",
            "_model_name": "DescriptionStyleModel",
            "_view_count": null,
            "_view_module": "@jupyter-widgets/base",
            "_view_module_version": "1.2.0",
            "_view_name": "StyleView",
            "description_width": ""
          }
        },
        "10ccd865a4584cfc912c40241a09d76e": {
          "model_module": "@jupyter-widgets/controls",
          "model_name": "HBoxModel",
          "model_module_version": "1.5.0",
          "state": {
            "_dom_classes": [],
            "_model_module": "@jupyter-widgets/controls",
            "_model_module_version": "1.5.0",
            "_model_name": "HBoxModel",
            "_view_count": null,
            "_view_module": "@jupyter-widgets/controls",
            "_view_module_version": "1.5.0",
            "_view_name": "HBoxView",
            "box_style": "",
            "children": [
              "IPY_MODEL_784f6d9e9ba34a19bf9c2fc3b444380d",
              "IPY_MODEL_5c228c9083c4497aac8afb768d97f723",
              "IPY_MODEL_e2b3e17827214349a716181b6c8fe860"
            ],
            "layout": "IPY_MODEL_318f90676f6a4d2aa849733b285b885e"
          }
        },
        "784f6d9e9ba34a19bf9c2fc3b444380d": {
          "model_module": "@jupyter-widgets/controls",
          "model_name": "HTMLModel",
          "model_module_version": "1.5.0",
          "state": {
            "_dom_classes": [],
            "_model_module": "@jupyter-widgets/controls",
            "_model_module_version": "1.5.0",
            "_model_name": "HTMLModel",
            "_view_count": null,
            "_view_module": "@jupyter-widgets/controls",
            "_view_module_version": "1.5.0",
            "_view_name": "HTMLView",
            "description": "",
            "description_tooltip": null,
            "layout": "IPY_MODEL_6358ff20a3b846bb86f5c00bb61296bd",
            "placeholder": "​",
            "style": "IPY_MODEL_b23112337a5a446ca972a821c2d8709c",
            "value": "config.json: 100%"
          }
        },
        "5c228c9083c4497aac8afb768d97f723": {
          "model_module": "@jupyter-widgets/controls",
          "model_name": "FloatProgressModel",
          "model_module_version": "1.5.0",
          "state": {
            "_dom_classes": [],
            "_model_module": "@jupyter-widgets/controls",
            "_model_module_version": "1.5.0",
            "_model_name": "FloatProgressModel",
            "_view_count": null,
            "_view_module": "@jupyter-widgets/controls",
            "_view_module_version": "1.5.0",
            "_view_name": "ProgressView",
            "bar_style": "success",
            "description": "",
            "description_tooltip": null,
            "layout": "IPY_MODEL_3a9f5e83261849fcad6c7e2a1e225e8e",
            "max": 483,
            "min": 0,
            "orientation": "horizontal",
            "style": "IPY_MODEL_a5b25f0300ac4279b9c421b1ff51ed21",
            "value": 483
          }
        },
        "e2b3e17827214349a716181b6c8fe860": {
          "model_module": "@jupyter-widgets/controls",
          "model_name": "HTMLModel",
          "model_module_version": "1.5.0",
          "state": {
            "_dom_classes": [],
            "_model_module": "@jupyter-widgets/controls",
            "_model_module_version": "1.5.0",
            "_model_name": "HTMLModel",
            "_view_count": null,
            "_view_module": "@jupyter-widgets/controls",
            "_view_module_version": "1.5.0",
            "_view_name": "HTMLView",
            "description": "",
            "description_tooltip": null,
            "layout": "IPY_MODEL_62269e63e74d4f1888eda0f60a32a720",
            "placeholder": "​",
            "style": "IPY_MODEL_090113a51d124e65a4eed7ffaf77de0e",
            "value": " 483/483 [00:00&lt;00:00, 51.7kB/s]"
          }
        },
        "318f90676f6a4d2aa849733b285b885e": {
          "model_module": "@jupyter-widgets/base",
          "model_name": "LayoutModel",
          "model_module_version": "1.2.0",
          "state": {
            "_model_module": "@jupyter-widgets/base",
            "_model_module_version": "1.2.0",
            "_model_name": "LayoutModel",
            "_view_count": null,
            "_view_module": "@jupyter-widgets/base",
            "_view_module_version": "1.2.0",
            "_view_name": "LayoutView",
            "align_content": null,
            "align_items": null,
            "align_self": null,
            "border": null,
            "bottom": null,
            "display": null,
            "flex": null,
            "flex_flow": null,
            "grid_area": null,
            "grid_auto_columns": null,
            "grid_auto_flow": null,
            "grid_auto_rows": null,
            "grid_column": null,
            "grid_gap": null,
            "grid_row": null,
            "grid_template_areas": null,
            "grid_template_columns": null,
            "grid_template_rows": null,
            "height": null,
            "justify_content": null,
            "justify_items": null,
            "left": null,
            "margin": null,
            "max_height": null,
            "max_width": null,
            "min_height": null,
            "min_width": null,
            "object_fit": null,
            "object_position": null,
            "order": null,
            "overflow": null,
            "overflow_x": null,
            "overflow_y": null,
            "padding": null,
            "right": null,
            "top": null,
            "visibility": null,
            "width": null
          }
        },
        "6358ff20a3b846bb86f5c00bb61296bd": {
          "model_module": "@jupyter-widgets/base",
          "model_name": "LayoutModel",
          "model_module_version": "1.2.0",
          "state": {
            "_model_module": "@jupyter-widgets/base",
            "_model_module_version": "1.2.0",
            "_model_name": "LayoutModel",
            "_view_count": null,
            "_view_module": "@jupyter-widgets/base",
            "_view_module_version": "1.2.0",
            "_view_name": "LayoutView",
            "align_content": null,
            "align_items": null,
            "align_self": null,
            "border": null,
            "bottom": null,
            "display": null,
            "flex": null,
            "flex_flow": null,
            "grid_area": null,
            "grid_auto_columns": null,
            "grid_auto_flow": null,
            "grid_auto_rows": null,
            "grid_column": null,
            "grid_gap": null,
            "grid_row": null,
            "grid_template_areas": null,
            "grid_template_columns": null,
            "grid_template_rows": null,
            "height": null,
            "justify_content": null,
            "justify_items": null,
            "left": null,
            "margin": null,
            "max_height": null,
            "max_width": null,
            "min_height": null,
            "min_width": null,
            "object_fit": null,
            "object_position": null,
            "order": null,
            "overflow": null,
            "overflow_x": null,
            "overflow_y": null,
            "padding": null,
            "right": null,
            "top": null,
            "visibility": null,
            "width": null
          }
        },
        "b23112337a5a446ca972a821c2d8709c": {
          "model_module": "@jupyter-widgets/controls",
          "model_name": "DescriptionStyleModel",
          "model_module_version": "1.5.0",
          "state": {
            "_model_module": "@jupyter-widgets/controls",
            "_model_module_version": "1.5.0",
            "_model_name": "DescriptionStyleModel",
            "_view_count": null,
            "_view_module": "@jupyter-widgets/base",
            "_view_module_version": "1.2.0",
            "_view_name": "StyleView",
            "description_width": ""
          }
        },
        "3a9f5e83261849fcad6c7e2a1e225e8e": {
          "model_module": "@jupyter-widgets/base",
          "model_name": "LayoutModel",
          "model_module_version": "1.2.0",
          "state": {
            "_model_module": "@jupyter-widgets/base",
            "_model_module_version": "1.2.0",
            "_model_name": "LayoutModel",
            "_view_count": null,
            "_view_module": "@jupyter-widgets/base",
            "_view_module_version": "1.2.0",
            "_view_name": "LayoutView",
            "align_content": null,
            "align_items": null,
            "align_self": null,
            "border": null,
            "bottom": null,
            "display": null,
            "flex": null,
            "flex_flow": null,
            "grid_area": null,
            "grid_auto_columns": null,
            "grid_auto_flow": null,
            "grid_auto_rows": null,
            "grid_column": null,
            "grid_gap": null,
            "grid_row": null,
            "grid_template_areas": null,
            "grid_template_columns": null,
            "grid_template_rows": null,
            "height": null,
            "justify_content": null,
            "justify_items": null,
            "left": null,
            "margin": null,
            "max_height": null,
            "max_width": null,
            "min_height": null,
            "min_width": null,
            "object_fit": null,
            "object_position": null,
            "order": null,
            "overflow": null,
            "overflow_x": null,
            "overflow_y": null,
            "padding": null,
            "right": null,
            "top": null,
            "visibility": null,
            "width": null
          }
        },
        "a5b25f0300ac4279b9c421b1ff51ed21": {
          "model_module": "@jupyter-widgets/controls",
          "model_name": "ProgressStyleModel",
          "model_module_version": "1.5.0",
          "state": {
            "_model_module": "@jupyter-widgets/controls",
            "_model_module_version": "1.5.0",
            "_model_name": "ProgressStyleModel",
            "_view_count": null,
            "_view_module": "@jupyter-widgets/base",
            "_view_module_version": "1.2.0",
            "_view_name": "StyleView",
            "bar_color": null,
            "description_width": ""
          }
        },
        "62269e63e74d4f1888eda0f60a32a720": {
          "model_module": "@jupyter-widgets/base",
          "model_name": "LayoutModel",
          "model_module_version": "1.2.0",
          "state": {
            "_model_module": "@jupyter-widgets/base",
            "_model_module_version": "1.2.0",
            "_model_name": "LayoutModel",
            "_view_count": null,
            "_view_module": "@jupyter-widgets/base",
            "_view_module_version": "1.2.0",
            "_view_name": "LayoutView",
            "align_content": null,
            "align_items": null,
            "align_self": null,
            "border": null,
            "bottom": null,
            "display": null,
            "flex": null,
            "flex_flow": null,
            "grid_area": null,
            "grid_auto_columns": null,
            "grid_auto_flow": null,
            "grid_auto_rows": null,
            "grid_column": null,
            "grid_gap": null,
            "grid_row": null,
            "grid_template_areas": null,
            "grid_template_columns": null,
            "grid_template_rows": null,
            "height": null,
            "justify_content": null,
            "justify_items": null,
            "left": null,
            "margin": null,
            "max_height": null,
            "max_width": null,
            "min_height": null,
            "min_width": null,
            "object_fit": null,
            "object_position": null,
            "order": null,
            "overflow": null,
            "overflow_x": null,
            "overflow_y": null,
            "padding": null,
            "right": null,
            "top": null,
            "visibility": null,
            "width": null
          }
        },
        "090113a51d124e65a4eed7ffaf77de0e": {
          "model_module": "@jupyter-widgets/controls",
          "model_name": "DescriptionStyleModel",
          "model_module_version": "1.5.0",
          "state": {
            "_model_module": "@jupyter-widgets/controls",
            "_model_module_version": "1.5.0",
            "_model_name": "DescriptionStyleModel",
            "_view_count": null,
            "_view_module": "@jupyter-widgets/base",
            "_view_module_version": "1.2.0",
            "_view_name": "StyleView",
            "description_width": ""
          }
        }
      }
    }
  },
  "cells": [
    {
      "cell_type": "markdown",
      "metadata": {
        "id": "view-in-github",
        "colab_type": "text"
      },
      "source": [
        "<a href=\"https://colab.research.google.com/github/whiskycasablanca/CLIP_Implementation/blob/main/clip_0313final_colab.ipynb\" target=\"_parent\"><img src=\"https://colab.research.google.com/assets/colab-badge.svg\" alt=\"Open In Colab\"/></a>"
      ]
    },
    {
      "cell_type": "code",
      "execution_count": 1,
      "metadata": {
        "colab": {
          "base_uri": "https://localhost:8080/"
        },
        "id": "zB51jYmm6Gl9",
        "outputId": "0455c833-f1a1-4d84-cdef-c1320aea62d2"
      },
      "outputs": [
        {
          "output_type": "stream",
          "name": "stdout",
          "text": [
            "Cloning into 'CLIP_Implementation'...\n",
            "remote: Enumerating objects: 8204, done.\u001b[K\n",
            "remote: Counting objects: 100% (10/10), done.\u001b[K\n",
            "remote: Compressing objects: 100% (9/9), done.\u001b[K\n",
            "remote: Total 8204 (delta 2), reused 8 (delta 1), pack-reused 8194 (from 1)\u001b[K\n",
            "Receiving objects: 100% (8204/8204), 1.03 GiB | 22.96 MiB/s, done.\n",
            "Resolving deltas: 100% (38/38), done.\n",
            "Updating files: 100% (8117/8117), done.\n",
            "/content/CLIP_Implementation\n"
          ]
        }
      ],
      "source": [
        "!git clone https://github.com/whiskycasablanca/CLIP_Implementation.git\n",
        "%cd /content/CLIP_Implementation/"
      ]
    },
    {
      "cell_type": "code",
      "source": [
        "import os\n",
        "import random\n",
        "import numpy as np\n",
        "import torch\n",
        "from torch import nn\n",
        "import torch.optim as optim\n",
        "from torch.utils.data import DataLoader\n",
        "import torchvision.transforms as T\n",
        "from transformers import DistilBertTokenizer\n",
        "from models import CLIPModel  # models.py 내의 CLIPModel (forward에 return_logits 옵션 추가)\n",
        "from dataset import Flickr8kDataset\n",
        "from torch.utils.tensorboard import SummaryWriter\n",
        "from tqdm import tqdm\n",
        "import matplotlib.pyplot as plt\n"
      ],
      "metadata": {
        "colab": {
          "base_uri": "https://localhost:8080/",
          "height": 272,
          "referenced_widgets": [
            "8c2ff20c5ef245aa9ab965c675a89a7e",
            "ee936f8818cc43cb871ccc13dd541be2",
            "e4281bc7fe9f4466b03eb708c1276f47",
            "7d59de7f596e4277aa7dae767a49ef16",
            "0c586a066f394005b4b97fd8be5dbc15",
            "e1f5f54b86464f9ba8fcaac68b7420c7",
            "61e62f6034a14c3f92e75b5b9ce383c3",
            "17d4e861136348ada0801b02f20ba948",
            "8645c26053454ef4a6d7a66b8008c60f",
            "fcaa0c33dd6d476fa0a2e6748ecb9ea0",
            "c375f6b9f30b45238c3a3184a0da1ce5",
            "ce10cca7e1174d4aa68579a61a67221c",
            "b4261fe57c754e36b67eb0c6029a7b9c",
            "d01751ca649d4fe193d3f1c377c5a114",
            "51950fa39b194edaba270aa4e37ff96e",
            "b2dc4e07aacd4a94b00d64661148b95f",
            "c9a4d5824f6a4771a9ed5964da1bd910",
            "73896cbec3904fb68eb1d36da64bf8d0",
            "21b9933b4aa140eeb435d3f2911d0e79",
            "8b98149bfc11479298ff7de2c12875d6",
            "7bbc36a80fa24c66ab3e2edb87c815b6",
            "e7dcc24fc1c94792ba3a96cddda12e61",
            "b72c2b1f613545fc87a034a008b25471",
            "af0986243cd54e909d5457cd63f85357",
            "3eac48c10ea14751b90696db38456979",
            "343df8cc95244209abf77606e3833eec",
            "03567cbebf034b8384dfa15f2606c538",
            "72404b1627d44650bfb935f57710850d",
            "c7810324c3e94f538b428183c03ce26b",
            "dc7062afebba4373ae05f50dab4179c1",
            "0a8c4ef92c1b4a1eaa9ffdd5d0f8460f",
            "d9dd30876dcd44a38836a9d45dd21a3e",
            "598fe62a1a704f9e908ddb3f05936f02",
            "10ccd865a4584cfc912c40241a09d76e",
            "784f6d9e9ba34a19bf9c2fc3b444380d",
            "5c228c9083c4497aac8afb768d97f723",
            "e2b3e17827214349a716181b6c8fe860",
            "318f90676f6a4d2aa849733b285b885e",
            "6358ff20a3b846bb86f5c00bb61296bd",
            "b23112337a5a446ca972a821c2d8709c",
            "3a9f5e83261849fcad6c7e2a1e225e8e",
            "a5b25f0300ac4279b9c421b1ff51ed21",
            "62269e63e74d4f1888eda0f60a32a720",
            "090113a51d124e65a4eed7ffaf77de0e"
          ]
        },
        "id": "KNyDzwTU6OfV",
        "outputId": "3b2b679c-b1e1-4b39-95d8-889447327bd1"
      },
      "execution_count": 2,
      "outputs": [
        {
          "output_type": "stream",
          "name": "stderr",
          "text": [
            "/usr/local/lib/python3.11/dist-packages/huggingface_hub/utils/_auth.py:94: UserWarning: \n",
            "The secret `HF_TOKEN` does not exist in your Colab secrets.\n",
            "To authenticate with the Hugging Face Hub, create a token in your settings tab (https://huggingface.co/settings/tokens), set it as secret in your Google Colab and restart your session.\n",
            "You will be able to reuse this secret in all of your notebooks.\n",
            "Please note that authentication is recommended but still optional to access public models or datasets.\n",
            "  warnings.warn(\n"
          ]
        },
        {
          "output_type": "display_data",
          "data": {
            "text/plain": [
              "tokenizer_config.json:   0%|          | 0.00/48.0 [00:00<?, ?B/s]"
            ],
            "application/vnd.jupyter.widget-view+json": {
              "version_major": 2,
              "version_minor": 0,
              "model_id": "8c2ff20c5ef245aa9ab965c675a89a7e"
            }
          },
          "metadata": {}
        },
        {
          "output_type": "display_data",
          "data": {
            "text/plain": [
              "vocab.txt:   0%|          | 0.00/232k [00:00<?, ?B/s]"
            ],
            "application/vnd.jupyter.widget-view+json": {
              "version_major": 2,
              "version_minor": 0,
              "model_id": "ce10cca7e1174d4aa68579a61a67221c"
            }
          },
          "metadata": {}
        },
        {
          "output_type": "display_data",
          "data": {
            "text/plain": [
              "tokenizer.json:   0%|          | 0.00/466k [00:00<?, ?B/s]"
            ],
            "application/vnd.jupyter.widget-view+json": {
              "version_major": 2,
              "version_minor": 0,
              "model_id": "b72c2b1f613545fc87a034a008b25471"
            }
          },
          "metadata": {}
        },
        {
          "output_type": "display_data",
          "data": {
            "text/plain": [
              "config.json:   0%|          | 0.00/483 [00:00<?, ?B/s]"
            ],
            "application/vnd.jupyter.widget-view+json": {
              "version_major": 2,
              "version_minor": 0,
              "model_id": "10ccd865a4584cfc912c40241a09d76e"
            }
          },
          "metadata": {}
        }
      ]
    },
    {
      "cell_type": "code",
      "source": [
        "#========================\n",
        "# 1. Seed 설정 (재현성을 위해)\n",
        "# ========================\n",
        "seed = 42\n",
        "random.seed(seed)\n",
        "np.random.seed(seed)\n",
        "torch.manual_seed(seed)\n",
        "if torch.cuda.is_available():\n",
        "    torch.cuda.manual_seed_all(seed)\n",
        "\n",
        "# ========================\n",
        "# 2. Device설정\n",
        "# ========================\n",
        "device = torch.device(\"cuda\" if torch.cuda.is_available() else \"cpu\")\n",
        "\n",
        "\n",
        "#\n",
        "# ========================\n",
        "# 3. 토크나이저 및 이미지 전처리 정의\n",
        "# ========================\n",
        "tokenizer = DistilBertTokenizer.from_pretrained('distilbert-base-uncased')\n",
        "transform = T.Compose([\n",
        "    T.Resize((224,224)),\n",
        "    T.ToTensor(),\n",
        "    T.Normalize(mean=[0.48145466, 0.4578275, 0.40821073],\n",
        "                std=[0.26862954, 0.26130258, 0.27577711])\n",
        "])\n"
      ],
      "metadata": {
        "id": "timDYUxT6Ocd"
      },
      "execution_count": 3,
      "outputs": []
    },
    {
      "cell_type": "code",
      "source": [
        "\n",
        "# ========================\n",
        "# 4. Dataset 및 DataLoader 생성\n",
        "# ------------------------\n",
        "# train split 파일: Flickr_8k.trainImages.txt\n",
        "train_dataset = Flickr8kDataset(\n",
        "    img_folder='images',\n",
        "    caption_file='captions.txt',\n",
        "    split_file='Flickr_8k.trainImages.txt',  # 분할 파일 경로 지정\n",
        "    transform=transform,\n",
        "    tokenizer=tokenizer,\n",
        "    max_length=40\n",
        ")\n",
        "train_loader = DataLoader(train_dataset, batch_size=32, shuffle=True, num_workers=4)\n",
        "\n",
        "# validation split 파일: Flickr_8k.devImages.txt\n",
        "val_dataset = Flickr8kDataset(\n",
        "    img_folder='images',\n",
        "    caption_file='captions.txt',\n",
        "    split_file='Flickr_8k.devImages.txt',  # 분할 파일 경로 지정\n",
        "    transform=transform,\n",
        "    tokenizer=tokenizer,\n",
        "    max_length=40\n",
        ")\n",
        "val_loader = DataLoader(val_dataset, batch_size=32, shuffle=False, num_workers=4)\n",
        "\n",
        "# test split 파일: Flickr_8k.testImages.txt\n",
        "test_dataset = Flickr8kDataset(\n",
        "    img_folder='images',\n",
        "    caption_file='captions.txt',\n",
        "    split_file='Flickr_8k.testImages.txt',  # 분할 파일 경로 지정\n",
        "    transform=transform,\n",
        "    tokenizer=tokenizer,\n",
        "    max_length=40\n",
        ")\n",
        "test_loader = DataLoader(test_dataset, batch_size=32, shuffle=False, num_workers=4)\n"
      ],
      "metadata": {
        "colab": {
          "base_uri": "https://localhost:8080/"
        },
        "id": "Q03XLlUG6OaH",
        "outputId": "37b1e1c0-113b-4ad1-ede6-ef5ecb1e5239"
      },
      "execution_count": 4,
      "outputs": [
        {
          "output_type": "stream",
          "name": "stderr",
          "text": [
            "/usr/local/lib/python3.11/dist-packages/torch/utils/data/dataloader.py:617: UserWarning: This DataLoader will create 4 worker processes in total. Our suggested max number of worker in current system is 2, which is smaller than what this DataLoader is going to create. Please be aware that excessive worker creation might get DataLoader running slow or even freeze, lower the worker number to avoid potential slowness/freeze if necessary.\n",
            "  warnings.warn(\n"
          ]
        }
      ]
    },
    {
      "cell_type": "code",
      "source": [
        "# ========================\n",
        "# 5. Model 및 옵티마이저 설정\n",
        "# ========================\n",
        "model = CLIPModel().to(device)\n",
        "optimizer = optim.Adam(model.parameters(), lr=1e-4)  # 초기 러닝 레이트 1e-4 사용\n",
        "# ReduceLROnPlateau: validation loss가 2epoch동안 개선 안되면 러닝 레이트를 0.5배로 감소시키기\n",
        "scheduler = optim.lr_scheduler.ReduceLROnPlateau(optimizer, mode='min', factor=0.5, patience=2, verbose=True)\n",
        "\n",
        "# 손실 기록용 리스트\n",
        "train_loss_history = []\n",
        "val_loss_history = []\n",
        "\n",
        "# ========================\n",
        "# 6. Training, Validation, Test 루프\n",
        "# ========================\n",
        "num_epochs = 30\n",
        "best_val_loss = float('inf')\n",
        "patience_counter = 0  # early stopping을 위한 카운터\n",
        "\n",
        "for epoch in range(num_epochs):\n",
        "    # --- Training phase ---\n",
        "    model.train()\n",
        "    train_loss = 0.0\n",
        "    total_train_batches = 0\n",
        "    pbar = tqdm(train_loader, desc=f\"Epoch [{epoch+1}/{num_epochs}]\")\n",
        "    step = 0\n",
        "    for batch in pbar:\n",
        "        step += 1\n",
        "        images = batch[\"image\"].to(device)\n",
        "        input_ids = batch[\"input_ids\"].to(device)\n",
        "        mask = batch[\"mask\"].to(device)\n",
        "        inputs = {\"image\": images, \"input_ids\": input_ids, \"mask\": mask}\n",
        "\n",
        "        loss = model(inputs)  # training 모드에서는 loss만 반환\n",
        "        optimizer.zero_grad()\n",
        "        loss.backward()\n",
        "        optimizer.step()\n",
        "\n",
        "        train_loss += loss.item()\n",
        "        total_train_batches += 1\n",
        "\n",
        "        # 10 스텝마다 현재 Loss 출력\n",
        "        if step % 10 == 0:\n",
        "            pbar.set_postfix({\"Loss\": loss.item()})\n",
        "    train_loss /= total_train_batches\n",
        "    train_loss_history.append(train_loss)\n",
        "\n",
        "    # --- Validation phase ---\n",
        "    model.eval()\n",
        "    val_loss = 0.0\n",
        "    total_val_batches = 0\n",
        "    correct_top1 = 0\n",
        "    correct_top5 = 0\n",
        "    total_samples = 0\n",
        "    with torch.no_grad():\n",
        "        for batch in val_loader:\n",
        "            images = batch[\"image\"].to(device)\n",
        "            input_ids = batch[\"input_ids\"].to(device)\n",
        "            mask = batch[\"mask\"].to(device)\n",
        "            inputs = {\"image\": images, \"input_ids\": input_ids, \"mask\": mask}\n",
        "\n",
        "            # return_logits=True로 logits도 함께 반환받음\n",
        "            loss, logits = model(inputs, return_logits=True)\n",
        "            val_loss += loss.item()\n",
        "            total_val_batches += 1\n",
        "\n",
        "            batch_size = logits.size(0)\n",
        "            total_samples += batch_size\n",
        "            labels = torch.arange(batch_size).to(device)\n",
        "            preds_top1 = logits.argmax(dim=1)\n",
        "            correct_top1 += (preds_top1 == labels).sum().item()\n",
        "            top5_preds = logits.topk(5, dim=1)[1]  # shape: [batch_size, 5]\n",
        "            for i in range(batch_size):\n",
        "                if labels[i] in top5_preds[i]:\n",
        "                    correct_top5 += 1\n",
        "\n",
        "    val_loss /= total_val_batches\n",
        "    top1_acc = 100.0 * correct_top1 / total_samples\n",
        "    top5_acc = 100.0 * correct_top5 / total_samples\n",
        "    val_loss_history.append(val_loss)\n",
        "\n",
        "    print(f\"[Epoch {epoch+1}/{num_epochs}] Train Loss: {train_loss:.4f} | Val Loss: {val_loss:.4f} | Val Top1: {top1_acc:.2f}% | Val Top5: {top5_acc:.2f}%\")\n",
        "\n",
        "    # 러닝 레이트 스케줄러 적용: 현재 validation 손실을 기준으로 조정\n",
        "    scheduler.step(val_loss)\n",
        "\n",
        "    # 모델 체크포인트 저장 (발리데이션 손실이 개선되면)\n",
        "    if val_loss < best_val_loss:\n",
        "        best_val_loss = val_loss\n",
        "        torch.save(model.state_dict(), \"best_model.pth\")\n",
        "        print(\"Best model saved.\")\n",
        "        patience_counter = 0  # 개선되었으므로 카운터 리셋\n",
        "    else:\n",
        "        patience_counter += 1\n",
        "        print(f\"No improvement for {patience_counter} epoch(s).\")\n",
        "\n",
        "    # 만약 5번 이상 개선이 없으면 학습 조기 종료\n",
        "    if patience_counter >= 5:\n",
        "        print(\"Validation loss did not improve for 5 consecutive epochs. Early stopping triggered.\")\n",
        "        break\n",
        "\n",
        " #========================\n",
        " #7. Test 루프// 다음 셀과 중복으로 실행됨\n",
        " #========================\n",
        "model.load_state_dict(torch.load(\"best_model.pth\"))\n",
        "model.eval()\n",
        "test_loss = 0.0\n",
        "correct_top1 = 0\n",
        "correct_top5 = 0\n",
        "total_samples = 0\n",
        "with torch.no_grad():\n",
        "    for batch in test_loader:\n",
        "        images = batch[\"image\"].to(device)\n",
        "        input_ids = batch[\"input_ids\"].to(device)\n",
        "        mask = batch[\"mask\"].to(device)\n",
        "        inputs = {\"image\": images, \"input_ids\": input_ids, \"mask\": mask}\n",
        "        loss, logits = model(inputs, return_logits=True)\n",
        "        test_loss += loss.item()\n",
        "\n",
        "        batch_size = logits.size(0)\n",
        "        total_samples += batch_size\n",
        "        labels = torch.arange(batch_size).to(device)\n",
        "        preds_top1 = logits.argmax(dim=1)\n",
        "        correct_top1 += (preds_top1 == labels).sum().item()\n",
        "        top5_preds = logits.topk(5, dim=1)[1]\n",
        "        for i in range(batch_size):\n",
        "            if labels[i] in top5_preds[i]:\n",
        "                correct_top5 += 1\n",
        "\n",
        "test_loss /= len(test_loader)\n",
        "test_top1_acc = 100.0 * correct_top1 / total_samples\n",
        "test_top5_acc = 100.0 * correct_top5 / total_samples\n",
        "\n",
        "print(f\"Test Loss: {test_loss:.4f} | Test Top1 Accuracy: {test_top1_acc:.2f}% | Test Top5 Accuracy: {test_top5_acc:.2f}%\")"
      ],
      "metadata": {
        "colab": {
          "base_uri": "https://localhost:8080/"
        },
        "id": "tZixNIJ36OW_",
        "outputId": "31991ad8-6bc8-4b5d-e5f3-c97862157451"
      },
      "execution_count": 9,
      "outputs": [
        {
          "output_type": "stream",
          "name": "stderr",
          "text": [
            "Epoch [1/30]: 100%|██████████| 188/188 [03:59<00:00,  1.27s/it, Loss=1.33]\n"
          ]
        },
        {
          "output_type": "stream",
          "name": "stdout",
          "text": [
            "[Epoch 1/30] Train Loss: 1.9170 | Val Loss: 1.2395 | Val Top1: 57.00% | Val Top5: 92.90%\n",
            "Best model saved.\n"
          ]
        },
        {
          "output_type": "stream",
          "name": "stderr",
          "text": [
            "Epoch [2/30]: 100%|██████████| 188/188 [03:58<00:00,  1.27s/it, Loss=1.41]\n"
          ]
        },
        {
          "output_type": "stream",
          "name": "stdout",
          "text": [
            "[Epoch 2/30] Train Loss: 0.9768 | Val Loss: 1.2043 | Val Top1: 61.50% | Val Top5: 93.60%\n",
            "Best model saved.\n"
          ]
        },
        {
          "output_type": "stream",
          "name": "stderr",
          "text": [
            "Epoch [3/30]: 100%|██████████| 188/188 [03:58<00:00,  1.27s/it, Loss=0.805]\n"
          ]
        },
        {
          "output_type": "stream",
          "name": "stdout",
          "text": [
            "[Epoch 3/30] Train Loss: 0.7200 | Val Loss: 1.0394 | Val Top1: 65.10% | Val Top5: 95.30%\n",
            "Best model saved.\n"
          ]
        },
        {
          "output_type": "stream",
          "name": "stderr",
          "text": [
            "Epoch [4/30]: 100%|██████████| 188/188 [03:59<00:00,  1.27s/it, Loss=0.4]\n"
          ]
        },
        {
          "output_type": "stream",
          "name": "stdout",
          "text": [
            "[Epoch 4/30] Train Loss: 0.5574 | Val Loss: 1.0292 | Val Top1: 66.80% | Val Top5: 96.20%\n",
            "Best model saved.\n"
          ]
        },
        {
          "output_type": "stream",
          "name": "stderr",
          "text": [
            "Epoch [5/30]: 100%|██████████| 188/188 [03:58<00:00,  1.27s/it, Loss=0.459]\n"
          ]
        },
        {
          "output_type": "stream",
          "name": "stdout",
          "text": [
            "[Epoch 5/30] Train Loss: 0.4879 | Val Loss: 1.1350 | Val Top1: 64.80% | Val Top5: 94.50%\n",
            "No improvement for 1 epoch(s).\n"
          ]
        },
        {
          "output_type": "stream",
          "name": "stderr",
          "text": [
            "Epoch [6/30]: 100%|██████████| 188/188 [03:59<00:00,  1.27s/it, Loss=0.402]\n"
          ]
        },
        {
          "output_type": "stream",
          "name": "stdout",
          "text": [
            "[Epoch 6/30] Train Loss: 0.4042 | Val Loss: 1.0696 | Val Top1: 66.30% | Val Top5: 94.10%\n",
            "No improvement for 2 epoch(s).\n"
          ]
        },
        {
          "output_type": "stream",
          "name": "stderr",
          "text": [
            "Epoch [7/30]: 100%|██████████| 188/188 [03:58<00:00,  1.27s/it, Loss=0.313]\n"
          ]
        },
        {
          "output_type": "stream",
          "name": "stdout",
          "text": [
            "[Epoch 7/30] Train Loss: 0.3723 | Val Loss: 0.9402 | Val Top1: 71.10% | Val Top5: 96.50%\n",
            "Best model saved.\n"
          ]
        },
        {
          "output_type": "stream",
          "name": "stderr",
          "text": [
            "Epoch [8/30]: 100%|██████████| 188/188 [03:59<00:00,  1.28s/it, Loss=0.289]\n"
          ]
        },
        {
          "output_type": "stream",
          "name": "stdout",
          "text": [
            "[Epoch 8/30] Train Loss: 0.3238 | Val Loss: 1.0908 | Val Top1: 68.10% | Val Top5: 95.80%\n",
            "No improvement for 1 epoch(s).\n"
          ]
        },
        {
          "output_type": "stream",
          "name": "stderr",
          "text": [
            "Epoch [9/30]: 100%|██████████| 188/188 [03:59<00:00,  1.27s/it, Loss=0.42]\n"
          ]
        },
        {
          "output_type": "stream",
          "name": "stdout",
          "text": [
            "[Epoch 9/30] Train Loss: 0.3343 | Val Loss: 1.1211 | Val Top1: 67.00% | Val Top5: 96.10%\n",
            "No improvement for 2 epoch(s).\n"
          ]
        },
        {
          "output_type": "stream",
          "name": "stderr",
          "text": [
            "Epoch [10/30]: 100%|██████████| 188/188 [03:59<00:00,  1.27s/it, Loss=0.396]\n"
          ]
        },
        {
          "output_type": "stream",
          "name": "stdout",
          "text": [
            "[Epoch 10/30] Train Loss: 0.2922 | Val Loss: 1.0281 | Val Top1: 71.00% | Val Top5: 96.10%\n",
            "No improvement for 3 epoch(s).\n"
          ]
        },
        {
          "output_type": "stream",
          "name": "stderr",
          "text": [
            "Epoch [11/30]: 100%|██████████| 188/188 [03:59<00:00,  1.27s/it, Loss=0.0608]\n"
          ]
        },
        {
          "output_type": "stream",
          "name": "stdout",
          "text": [
            "[Epoch 11/30] Train Loss: 0.1868 | Val Loss: 0.8063 | Val Top1: 76.00% | Val Top5: 97.40%\n",
            "Best model saved.\n"
          ]
        },
        {
          "output_type": "stream",
          "name": "stderr",
          "text": [
            "Epoch [12/30]: 100%|██████████| 188/188 [03:59<00:00,  1.27s/it, Loss=0.177]\n"
          ]
        },
        {
          "output_type": "stream",
          "name": "stdout",
          "text": [
            "[Epoch 12/30] Train Loss: 0.1514 | Val Loss: 0.8377 | Val Top1: 74.30% | Val Top5: 97.80%\n",
            "No improvement for 1 epoch(s).\n"
          ]
        },
        {
          "output_type": "stream",
          "name": "stderr",
          "text": [
            "Epoch [13/30]: 100%|██████████| 188/188 [03:59<00:00,  1.27s/it, Loss=0.0318]\n"
          ]
        },
        {
          "output_type": "stream",
          "name": "stdout",
          "text": [
            "[Epoch 13/30] Train Loss: 0.1346 | Val Loss: 0.8015 | Val Top1: 76.80% | Val Top5: 97.50%\n",
            "Best model saved.\n"
          ]
        },
        {
          "output_type": "stream",
          "name": "stderr",
          "text": [
            "Epoch [14/30]: 100%|██████████| 188/188 [03:58<00:00,  1.27s/it, Loss=0.0518]\n"
          ]
        },
        {
          "output_type": "stream",
          "name": "stdout",
          "text": [
            "[Epoch 14/30] Train Loss: 0.1243 | Val Loss: 0.9899 | Val Top1: 73.10% | Val Top5: 96.40%\n",
            "No improvement for 1 epoch(s).\n"
          ]
        },
        {
          "output_type": "stream",
          "name": "stderr",
          "text": [
            "Epoch [15/30]: 100%|██████████| 188/188 [03:58<00:00,  1.27s/it, Loss=0.0463]\n"
          ]
        },
        {
          "output_type": "stream",
          "name": "stdout",
          "text": [
            "[Epoch 15/30] Train Loss: 0.1248 | Val Loss: 0.8164 | Val Top1: 76.70% | Val Top5: 98.00%\n",
            "No improvement for 2 epoch(s).\n"
          ]
        },
        {
          "output_type": "stream",
          "name": "stderr",
          "text": [
            "Epoch [16/30]: 100%|██████████| 188/188 [03:59<00:00,  1.27s/it, Loss=0.14]\n"
          ]
        },
        {
          "output_type": "stream",
          "name": "stdout",
          "text": [
            "[Epoch 16/30] Train Loss: 0.1354 | Val Loss: 0.9301 | Val Top1: 74.80% | Val Top5: 97.00%\n",
            "No improvement for 3 epoch(s).\n"
          ]
        },
        {
          "output_type": "stream",
          "name": "stderr",
          "text": [
            "Epoch [17/30]: 100%|██████████| 188/188 [03:58<00:00,  1.27s/it, Loss=0.061]\n"
          ]
        },
        {
          "output_type": "stream",
          "name": "stdout",
          "text": [
            "[Epoch 17/30] Train Loss: 0.1009 | Val Loss: 0.7926 | Val Top1: 76.80% | Val Top5: 98.50%\n",
            "Best model saved.\n"
          ]
        },
        {
          "output_type": "stream",
          "name": "stderr",
          "text": [
            "Epoch [18/30]: 100%|██████████| 188/188 [03:58<00:00,  1.27s/it, Loss=0.066]\n"
          ]
        },
        {
          "output_type": "stream",
          "name": "stdout",
          "text": [
            "[Epoch 18/30] Train Loss: 0.0805 | Val Loss: 0.7855 | Val Top1: 76.70% | Val Top5: 97.80%\n",
            "Best model saved.\n"
          ]
        },
        {
          "output_type": "stream",
          "name": "stderr",
          "text": [
            "Epoch [19/30]: 100%|██████████| 188/188 [03:59<00:00,  1.27s/it, Loss=0.00727]\n"
          ]
        },
        {
          "output_type": "stream",
          "name": "stdout",
          "text": [
            "[Epoch 19/30] Train Loss: 0.0740 | Val Loss: 0.8231 | Val Top1: 77.10% | Val Top5: 98.10%\n",
            "No improvement for 1 epoch(s).\n"
          ]
        },
        {
          "output_type": "stream",
          "name": "stderr",
          "text": [
            "Epoch [20/30]: 100%|██████████| 188/188 [03:58<00:00,  1.27s/it, Loss=0.0534]\n"
          ]
        },
        {
          "output_type": "stream",
          "name": "stdout",
          "text": [
            "[Epoch 20/30] Train Loss: 0.0752 | Val Loss: 0.8515 | Val Top1: 75.90% | Val Top5: 98.00%\n",
            "No improvement for 2 epoch(s).\n"
          ]
        },
        {
          "output_type": "stream",
          "name": "stderr",
          "text": [
            "Epoch [21/30]: 100%|██████████| 188/188 [03:58<00:00,  1.27s/it, Loss=0.0843]\n"
          ]
        },
        {
          "output_type": "stream",
          "name": "stdout",
          "text": [
            "[Epoch 21/30] Train Loss: 0.0790 | Val Loss: 0.8461 | Val Top1: 76.70% | Val Top5: 98.10%\n",
            "No improvement for 3 epoch(s).\n"
          ]
        },
        {
          "output_type": "stream",
          "name": "stderr",
          "text": [
            "Epoch [22/30]: 100%|██████████| 188/188 [03:58<00:00,  1.27s/it, Loss=0.0446]\n"
          ]
        },
        {
          "output_type": "stream",
          "name": "stdout",
          "text": [
            "[Epoch 22/30] Train Loss: 0.0670 | Val Loss: 0.7252 | Val Top1: 79.70% | Val Top5: 97.70%\n",
            "Best model saved.\n"
          ]
        },
        {
          "output_type": "stream",
          "name": "stderr",
          "text": [
            "Epoch [23/30]: 100%|██████████| 188/188 [03:59<00:00,  1.27s/it, Loss=0.00219]\n"
          ]
        },
        {
          "output_type": "stream",
          "name": "stdout",
          "text": [
            "[Epoch 23/30] Train Loss: 0.0583 | Val Loss: 0.7842 | Val Top1: 77.70% | Val Top5: 97.60%\n",
            "No improvement for 1 epoch(s).\n"
          ]
        },
        {
          "output_type": "stream",
          "name": "stderr",
          "text": [
            "Epoch [24/30]: 100%|██████████| 188/188 [03:59<00:00,  1.27s/it, Loss=0.0357]\n"
          ]
        },
        {
          "output_type": "stream",
          "name": "stdout",
          "text": [
            "[Epoch 24/30] Train Loss: 0.0492 | Val Loss: 0.7330 | Val Top1: 79.40% | Val Top5: 98.60%\n",
            "No improvement for 2 epoch(s).\n"
          ]
        },
        {
          "output_type": "stream",
          "name": "stderr",
          "text": [
            "Epoch [25/30]: 100%|██████████| 188/188 [03:58<00:00,  1.27s/it, Loss=0.0693]\n"
          ]
        },
        {
          "output_type": "stream",
          "name": "stdout",
          "text": [
            "[Epoch 25/30] Train Loss: 0.0565 | Val Loss: 0.7888 | Val Top1: 78.70% | Val Top5: 98.30%\n",
            "No improvement for 3 epoch(s).\n"
          ]
        },
        {
          "output_type": "stream",
          "name": "stderr",
          "text": [
            "Epoch [26/30]: 100%|██████████| 188/188 [03:58<00:00,  1.27s/it, Loss=0.0245]\n"
          ]
        },
        {
          "output_type": "stream",
          "name": "stdout",
          "text": [
            "[Epoch 26/30] Train Loss: 0.0502 | Val Loss: 0.6886 | Val Top1: 79.90% | Val Top5: 98.40%\n",
            "Best model saved.\n"
          ]
        },
        {
          "output_type": "stream",
          "name": "stderr",
          "text": [
            "Epoch [27/30]: 100%|██████████| 188/188 [03:59<00:00,  1.27s/it, Loss=0.00845]\n"
          ]
        },
        {
          "output_type": "stream",
          "name": "stdout",
          "text": [
            "[Epoch 27/30] Train Loss: 0.0454 | Val Loss: 0.7960 | Val Top1: 78.90% | Val Top5: 98.40%\n",
            "No improvement for 1 epoch(s).\n"
          ]
        },
        {
          "output_type": "stream",
          "name": "stderr",
          "text": [
            "Epoch [28/30]: 100%|██████████| 188/188 [03:58<00:00,  1.27s/it, Loss=0.0631]\n"
          ]
        },
        {
          "output_type": "stream",
          "name": "stdout",
          "text": [
            "[Epoch 28/30] Train Loss: 0.0504 | Val Loss: 0.7308 | Val Top1: 79.20% | Val Top5: 98.60%\n",
            "No improvement for 2 epoch(s).\n"
          ]
        },
        {
          "output_type": "stream",
          "name": "stderr",
          "text": [
            "Epoch [29/30]: 100%|██████████| 188/188 [03:58<00:00,  1.27s/it, Loss=0.0254]\n"
          ]
        },
        {
          "output_type": "stream",
          "name": "stdout",
          "text": [
            "[Epoch 29/30] Train Loss: 0.0449 | Val Loss: 0.7743 | Val Top1: 77.70% | Val Top5: 98.40%\n",
            "No improvement for 3 epoch(s).\n"
          ]
        },
        {
          "output_type": "stream",
          "name": "stderr",
          "text": [
            "Epoch [30/30]: 100%|██████████| 188/188 [03:58<00:00,  1.27s/it, Loss=0.122]\n"
          ]
        },
        {
          "output_type": "stream",
          "name": "stdout",
          "text": [
            "[Epoch 30/30] Train Loss: 0.0440 | Val Loss: 0.7786 | Val Top1: 79.60% | Val Top5: 97.80%\n",
            "No improvement for 4 epoch(s).\n"
          ]
        },
        {
          "output_type": "stream",
          "name": "stderr",
          "text": [
            "<ipython-input-9-4c925baea450>:105: FutureWarning: You are using `torch.load` with `weights_only=False` (the current default value), which uses the default pickle module implicitly. It is possible to construct malicious pickle data which will execute arbitrary code during unpickling (See https://github.com/pytorch/pytorch/blob/main/SECURITY.md#untrusted-models for more details). In a future release, the default value for `weights_only` will be flipped to `True`. This limits the functions that could be executed during unpickling. Arbitrary objects will no longer be allowed to be loaded via this mode unless they are explicitly allowlisted by the user via `torch.serialization.add_safe_globals`. We recommend you start setting `weights_only=True` for any use case where you don't have full control of the loaded file. Please open an issue on GitHub for any issues related to this experimental feature.\n",
            "  model.load_state_dict(torch.load(\"best_model.pth\"))\n"
          ]
        },
        {
          "output_type": "stream",
          "name": "stdout",
          "text": [
            "Test Loss: 0.7388 | Test Top1 Accuracy: 80.00% | Test Top5 Accuracy: 97.60%\n"
          ]
        }
      ]
    },
    {
      "cell_type": "code",
      "source": [
        "# 학습/검증 손실 변화를 그래프로 출력\n",
        "plt.figure(figsize=(8, 6))\n",
        "plt.plot(range(1, num_epochs+1), train_loss_history, label=\"Train Loss\")\n",
        "plt.plot(range(1, num_epochs+1), val_loss_history, label=\"Validation Loss\")\n",
        "plt.xlabel(\"Epoch\")\n",
        "plt.ylabel(\"Loss\")\n",
        "plt.title(\"Loss per Epoch\")\n",
        "plt.legend()\n",
        "plt.grid(True)\n",
        "plt.show()"
      ],
      "metadata": {
        "colab": {
          "base_uri": "https://localhost:8080/",
          "height": 564
        },
        "id": "4EdQjMLa6OPc",
        "outputId": "2efa93c9-3df6-4f98-a675-d6342d4c072a"
      },
      "execution_count": 11,
      "outputs": [
        {
          "output_type": "display_data",
          "data": {
            "text/plain": [
              "<Figure size 800x600 with 1 Axes>"
            ],
            "image/png": "[encoded data removed]"
          },
          "metadata": {}
        }
      ]
    },
    {
      "cell_type": "code",
      "source": [
        "%ls"
      ],
      "metadata": {
        "colab": {
          "base_uri": "https://localhost:8080/"
        },
        "id": "mgNeSdSH6OL1",
        "outputId": "32747480-497c-4794-fff3-69ff11aa3598"
      },
      "execution_count": 7,
      "outputs": [
        {
          "output_type": "stream",
          "name": "stdout",
          "text": [
            "best_model.pth           Flickr_8k.testImages.txt   models.py     test.ipynb         train_test.py\n",
            "captions.txt             Flickr_8k.trainImages.txt  plan          text_encoder.py\n",
            "clip_test0313_1.ipynb    ideas.md                   \u001b[0m\u001b[01;34m__pycache__\u001b[0m/  train.py\n",
            "dataset.py               image_encoder.py           README.md     train_test2.ipynb\n",
            "Flickr_8k.devImages.txt  \u001b[01;34mimages\u001b[0m/                    \u001b[01;34mruns\u001b[0m/         train_test.ipynb\n"
          ]
        }
      ]
    },
    {
      "cell_type": "code",
      "source": [],
      "metadata": {
        "id": "ooFF-SM56OGH"
      },
      "execution_count": null,
      "outputs": []
    },
    {
      "cell_type": "code",
      "source": [],
      "metadata": {
        "id": "bHTa4QPF6N8r"
      },
      "execution_count": null,
      "outputs": []
    }
  ]
}