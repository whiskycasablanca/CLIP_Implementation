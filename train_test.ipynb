{
  "cells": [
    {
      "cell_type": "code",
      "source": [
        "!git clone -b Test_L1 --single-branch https://github.com/whiskycasablanca/CLIP_Implementation.git"
      ],
      "metadata": {
        "colab": {
          "base_uri": "https://localhost:8080/"
        },
        "id": "orhF3YxBcJJ1",
        "outputId": "55a160d5-3cb0-4d5a-b19c-30a790e78464"
      },
      "execution_count": 1,
      "outputs": [
        {
          "output_type": "stream",
          "name": "stdout",
          "text": [
            "Cloning into 'CLIP_Implementation'...\n",
            "remote: Enumerating objects: 8173, done.\u001b[K\n",
            "remote: Counting objects: 100% (9/9), done.\u001b[K\n",
            "remote: Total 8173 (delta 8), reused 8 (delta 8), pack-reused 8164 (from 1)\u001b[K\n",
            "Receiving objects: 100% (8173/8173), 1.03 GiB | 24.74 MiB/s, done.\n",
            "Resolving deltas: 100% (26/26), done.\n",
            "Updating files: 100% (8114/8114), done.\n"
          ]
        }
      ]
    },
    {
      "cell_type": "code",
      "source": [
        "import os\n",
        "os.chdir('/content/CLIP_Implementation')"
      ],
      "metadata": {
        "id": "1bCwVcv7dQvx"
      },
      "execution_count": 3,
      "outputs": []
    },
    {
      "cell_type": "code",
      "execution_count": 9,
      "metadata": {
        "id": "98pIeGAicHGt"
      },
      "outputs": [],
      "source": [
        "import torch\n",
        "import torch.optim as optim\n",
        "from torch.utils.data import DataLoader\n",
        "from transformers import DistilBertTokenizer\n",
        "from CLIP import CLIPModel  # models.py 내의 CLIPModel\n",
        "import torchvision.transforms as T\n",
        "from dataset import Flickr8kDataset\n",
        "import matplotlib.pyplot as plt\n",
        "from tqdm import tqdm"
      ]
    },
    {
      "cell_type": "code",
      "execution_count": 6,
      "metadata": {
        "id": "ywPYDDNycHGu"
      },
      "outputs": [],
      "source": [
        "# 토크나이저와 이미지 전처리 정의\n",
        "tokenizer = DistilBertTokenizer.from_pretrained('distilbert-base-uncased')\n",
        "transform = T.Compose([\n",
        "    T.Resize((224,224)),\n",
        "    T.ToTensor(),\n",
        "    T.Normalize(mean=[0.48145466, 0.4578275, 0.40821073],\n",
        "                std=[0.26862954, 0.26130258, 0.27577711])\n",
        "])\n",
        "\n",
        "# split된 데이터셋 생성성\n",
        "split_files = {'train' : 'Flickr_8k.trainImages.txt', 'validation' : 'Flickr_8k.devImages.txt', 'test' : 'Flickr_8k.testImages.txt'}\n",
        "datasets = {\n",
        "    split_name : Flickr8kDataset(\n",
        "        img_folder='images',\n",
        "        caption_file='captions.txt',\n",
        "        split_file=split_file,  # 분할 파일 경로 지정\n",
        "        transform=transform,  # 미리 정의한 transform\n",
        "        tokenizer=tokenizer ,  # 미리 정의한 토크나이저\n",
        "        max_length=40\n",
        "    )\n",
        "    for split_name, split_file in split_files.items()\n",
        "}"
      ]
    },
    {
      "cell_type": "code",
      "execution_count": 7,
      "metadata": {
        "colab": {
          "base_uri": "https://localhost:8080/",
          "height": 142,
          "referenced_widgets": [
            "6402d2a1d0fc4b17a5b900fa6a94cf5b",
            "52d6119a522d4f8b9c494923a50aefc7",
            "774fdc223e134675a4ef4e57a463f035",
            "ab28c0fecf99479b9ee65e4e7357b561",
            "8f2b3f32e3624529af1eddb6914b693f",
            "325643ac96c44f1fa052657f79ea40ed",
            "26d54258cd934d69b0bd8fa440c37e6d",
            "7a8d470e528647e897a4f720e59ee4d8",
            "fb21d1cac1f24dcd9327fedfe92458fa",
            "1cc6f501f9074efea06082e3ffdee57d",
            "34d1bf685149425283f452066e1d85b8"
          ]
        },
        "id": "aVYE2ZPxcHGu",
        "outputId": "f82c6bd6-68e2-4ff2-8db9-6dbd2b5814fb"
      },
      "outputs": [
        {
          "output_type": "stream",
          "name": "stderr",
          "text": [
            "/usr/local/lib/python3.11/dist-packages/torch/utils/data/dataloader.py:617: UserWarning: This DataLoader will create 4 worker processes in total. Our suggested max number of worker in current system is 2, which is smaller than what this DataLoader is going to create. Please be aware that excessive worker creation might get DataLoader running slow or even freeze, lower the worker number to avoid potential slowness/freeze if necessary.\n",
            "  warnings.warn(\n",
            "Downloading: \"https://download.pytorch.org/models/vit_b_16-c867db91.pth\" to /root/.cache/torch/hub/checkpoints/vit_b_16-c867db91.pth\n",
            "100%|██████████| 330M/330M [00:02<00:00, 168MB/s]\n"
          ]
        },
        {
          "output_type": "display_data",
          "data": {
            "text/plain": [
              "model.safetensors:   0%|          | 0.00/268M [00:00<?, ?B/s]"
            ],
            "application/vnd.jupyter.widget-view+json": {
              "version_major": 2,
              "version_minor": 0,
              "model_id": "6402d2a1d0fc4b17a5b900fa6a94cf5b"
            }
          },
          "metadata": {}
        }
      ],
      "source": [
        "# 디바이스 지정\n",
        "device = \"cuda\" if torch.cuda.is_available() else \"cpu\"\n",
        "\n",
        "# DataLoader 생성\n",
        "train_loader = DataLoader(datasets['train'], batch_size=32, shuffle=False, num_workers=4)\n",
        "val_loader = DataLoader(datasets['validation'], batch_size=32, shuffle=False, num_workers=4)\n",
        "test_loader = DataLoader(datasets['test'], batch_size=32, shuffle=False, num_workers=4)\n",
        "\n",
        "# CLIP 모델 생성\n",
        "model = CLIPModel()\n",
        "\n",
        "# Optimizer 생성\n",
        "optimizer = optim.AdamW(model.parameters(), lr=1e-4, weight_decay=0.01)"
      ]
    },
    {
      "cell_type": "code",
      "execution_count": 10,
      "metadata": {
        "colab": {
          "base_uri": "https://localhost:8080/"
        },
        "id": "GhvF_yRwcHGv",
        "outputId": "1c80832d-84e0-45c7-812e-60cc5a3761ba"
      },
      "outputs": [
        {
          "output_type": "stream",
          "name": "stderr",
          "text": [
            "Epoch [1/5]: 100%|██████████| 188/188 [01:20<00:00,  2.34it/s, Loss=2.21]\n"
          ]
        },
        {
          "output_type": "stream",
          "name": "stdout",
          "text": [
            "\n",
            "Epoch [1/5] Train Loss: 3.3960, Val Loss: 2.7220\n",
            "Best model saved!\n"
          ]
        },
        {
          "output_type": "stream",
          "name": "stderr",
          "text": [
            "Epoch [2/5]: 100%|██████████| 188/188 [01:22<00:00,  2.27it/s, Loss=1.81]\n"
          ]
        },
        {
          "output_type": "stream",
          "name": "stdout",
          "text": [
            "\n",
            "Epoch [2/5] Train Loss: 2.5280, Val Loss: 2.1926\n",
            "Best model saved!\n"
          ]
        },
        {
          "output_type": "stream",
          "name": "stderr",
          "text": [
            "Epoch [3/5]: 100%|██████████| 188/188 [01:22<00:00,  2.27it/s, Loss=1.11]\n"
          ]
        },
        {
          "output_type": "stream",
          "name": "stdout",
          "text": [
            "\n",
            "Epoch [3/5] Train Loss: 2.1553, Val Loss: 2.0029\n",
            "Best model saved!\n"
          ]
        },
        {
          "output_type": "stream",
          "name": "stderr",
          "text": [
            "Epoch [4/5]: 100%|██████████| 188/188 [01:23<00:00,  2.26it/s, Loss=0.913]\n"
          ]
        },
        {
          "output_type": "stream",
          "name": "stdout",
          "text": [
            "\n",
            "Epoch [4/5] Train Loss: 1.9581, Val Loss: 1.8495\n",
            "Best model saved!\n"
          ]
        },
        {
          "output_type": "stream",
          "name": "stderr",
          "text": [
            "Epoch [5/5]: 100%|██████████| 188/188 [01:23<00:00,  2.26it/s, Loss=0.74]\n"
          ]
        },
        {
          "output_type": "stream",
          "name": "stdout",
          "text": [
            "\n",
            "Epoch [5/5] Train Loss: 1.7857, Val Loss: 1.7995\n",
            "Best model saved!\n"
          ]
        }
      ],
      "source": [
        "# 학습 진행\n",
        "num_epochs = 5  # 원하는 에폭 수\n",
        "best_val_loss = float('inf')\n",
        "\n",
        "# 손실 기록용 리스트\n",
        "train_loss_history = []\n",
        "val_loss_history = []\n",
        "\n",
        "# 학습 루프\n",
        "for epoch in range(num_epochs):\n",
        "    model.train()\n",
        "    running_loss = 0.0\n",
        "    step = 0\n",
        "\n",
        "    # tqdm progress bar로 학습 배치 진행 상황 표시\n",
        "    pbar = tqdm(train_loader, desc=f\"Epoch [{epoch+1}/{num_epochs}]\")\n",
        "    for batch in pbar:\n",
        "        step += 1\n",
        "        # 배치 데이터를 디바이스로 이동\n",
        "        images = batch[\"image\"].to(device)\n",
        "        input_ids = batch[\"input_ids\"].to(device)\n",
        "        masks = batch[\"mask\"].to(device)\n",
        "\n",
        "        inputs = {\n",
        "            \"image\": images,\n",
        "            \"input_ids\": input_ids,\n",
        "            \"mask\": masks\n",
        "        }\n",
        "\n",
        "        optimizer.zero_grad()\n",
        "\n",
        "        loss = model(inputs)\n",
        "        loss.backward()\n",
        "        optimizer.step()\n",
        "\n",
        "        running_loss += loss.item() * images.size(0)\n",
        "\n",
        "        # 10 스텝마다 현재 Loss 출력\n",
        "        if step % 1 == 0:\n",
        "            pbar.set_postfix({\"Loss\": loss.item()})\n",
        "\n",
        "    epoch_train_loss = running_loss / len(train_loader.dataset)\n",
        "    train_loss_history.append(epoch_train_loss)\n",
        "\n",
        "    # 검증 루프\n",
        "    model.eval()\n",
        "    running_val_loss = 0.0\n",
        "    with torch.no_grad():\n",
        "        for batch in val_loader:\n",
        "            images = batch[\"image\"].to(device)\n",
        "            input_ids = batch[\"input_ids\"].to(device)\n",
        "            masks = batch[\"mask\"].to(device)\n",
        "\n",
        "            inputs = {\n",
        "                \"image\": images,\n",
        "                \"input_ids\": input_ids,\n",
        "                \"mask\": masks\n",
        "            }\n",
        "\n",
        "            loss = model(inputs)\n",
        "            running_val_loss += loss.item() * images.size(0)\n",
        "\n",
        "    epoch_val_loss = running_val_loss / len(val_loader.dataset)\n",
        "    val_loss_history.append(epoch_val_loss)\n",
        "\n",
        "    print(f\"\\nEpoch [{epoch+1}/{num_epochs}] Train Loss: {epoch_train_loss:.4f}, Val Loss: {epoch_val_loss:.4f}\")\n",
        "\n",
        "    # 검증 손실이 개선되면 모델 저장\n",
        "    if epoch_val_loss < best_val_loss:\n",
        "        best_val_loss = epoch_val_loss\n",
        "        torch.save(model.state_dict(), \"best_clip_model.pth\")\n",
        "        print(\"Best model saved!\")"
      ]
    },
    {
      "cell_type": "code",
      "execution_count": 11,
      "metadata": {
        "colab": {
          "base_uri": "https://localhost:8080/",
          "height": 564
        },
        "id": "QEMYhImAcHGv",
        "outputId": "c49eed4a-61ad-46a1-b331-0b9c2c1947ef"
      },
      "outputs": [
        {
          "output_type": "display_data",
          "data": {
            "text/plain": [
              "<Figure size 800x600 with 1 Axes>"
            ],
            "image/png": "[encoded data removed]"
          },
          "metadata": {}
        }
      ],
      "source": [
        "# 학습/검증 손실 변화를 그래프로 출력\n",
        "plt.figure(figsize=(8, 6))\n",
        "plt.plot(range(1, num_epochs+1), train_loss_history, label=\"Train Loss\")\n",
        "plt.plot(range(1, num_epochs+1), val_loss_history, label=\"Validation Loss\")\n",
        "plt.xlabel(\"Epoch\")\n",
        "plt.ylabel(\"Loss\")\n",
        "plt.title(\"Loss per Epoch\")\n",
        "plt.legend()\n",
        "plt.grid(True)\n",
        "plt.show()"
      ]
    },
    {
      "cell_type": "code",
      "execution_count": 12,
      "metadata": {
        "colab": {
          "base_uri": "https://localhost:8080/"
        },
        "id": "VnLok0L6cHGw",
        "outputId": "67e013c6-5438-4de2-96d9-7b116d25b8ff"
      },
      "outputs": [
        {
          "output_type": "stream",
          "name": "stderr",
          "text": [
            "<ipython-input-12-f35ab7e2e0d3>:2: FutureWarning: You are using `torch.load` with `weights_only=False` (the current default value), which uses the default pickle module implicitly. It is possible to construct malicious pickle data which will execute arbitrary code during unpickling (See https://github.com/pytorch/pytorch/blob/main/SECURITY.md#untrusted-models for more details). In a future release, the default value for `weights_only` will be flipped to `True`. This limits the functions that could be executed during unpickling. Arbitrary objects will no longer be allowed to be loaded via this mode unless they are explicitly allowlisted by the user via `torch.serialization.add_safe_globals`. We recommend you start setting `weights_only=True` for any use case where you don't have full control of the loaded file. Please open an issue on GitHub for any issues related to this experimental feature.\n",
            "  model.load_state_dict(torch.load(\"best_clip_model.pth\"))\n"
          ]
        },
        {
          "output_type": "stream",
          "name": "stdout",
          "text": [
            "Test Loss: 1.8163\n"
          ]
        }
      ],
      "source": [
        "# 테스트 루프: 저장된 모델을 로드해서 평가\n",
        "model.load_state_dict(torch.load(\"best_clip_model.pth\"))\n",
        "model.eval()\n",
        "test_loss = 0.0\n",
        "with torch.no_grad():\n",
        "    for batch in test_loader:\n",
        "        images = batch[\"image\"].to(device)\n",
        "        input_ids = batch[\"input_ids\"].to(device)\n",
        "        masks = batch[\"mask\"].to(device)\n",
        "\n",
        "        inputs = {\n",
        "            \"image\": images,\n",
        "            \"input_ids\": input_ids,\n",
        "            \"mask\": masks\n",
        "        }\n",
        "        loss = model(inputs)\n",
        "        test_loss += loss.item() * images.size(0)\n",
        "\n",
        "test_loss /= len(test_loader.dataset)\n",
        "print(f\"Test Loss: {test_loss:.4f}\")"
      ]
    }
  ],
  "metadata": {
    "kernelspec": {
      "display_name": "Python 3",
      "name": "python3"
    },
    "language_info": {
      "codemirror_mode": {
        "name": "ipython",
        "version": 3
      },
      "file_extension": ".py",
      "mimetype": "text/x-python",
      "name": "python",
      "nbconvert_exporter": "python",
      "pygments_lexer": "ipython3",
      "version": "3.10.16"
    },
    "colab": {
      "provenance": [],
      "gpuType": "T4"
    },
    "accelerator": "GPU",
    "widgets": {
      "application/vnd.jupyter.widget-state+json": {
        "6402d2a1d0fc4b17a5b900fa6a94cf5b": {
          "model_module": "@jupyter-widgets/controls",
          "model_name": "HBoxModel",
          "model_module_version": "1.5.0",
          "state": {
            "_dom_classes": [],
            "_model_module": "@jupyter-widgets/controls",
            "_model_module_version": "1.5.0",
            "_model_name": "HBoxModel",
            "_view_count": null,
            "_view_module": "@jupyter-widgets/controls",
            "_view_module_version": "1.5.0",
            "_view_name": "HBoxView",
            "box_style": "",
            "children": [
              "IPY_MODEL_52d6119a522d4f8b9c494923a50aefc7",
              "IPY_MODEL_774fdc223e134675a4ef4e57a463f035",
              "IPY_MODEL_ab28c0fecf99479b9ee65e4e7357b561"
            ],
            "layout": "IPY_MODEL_8f2b3f32e3624529af1eddb6914b693f"
          }
        },
        "52d6119a522d4f8b9c494923a50aefc7": {
          "model_module": "@jupyter-widgets/controls",
          "model_name": "HTMLModel",
          "model_module_version": "1.5.0",
          "state": {
            "_dom_classes": [],
            "_model_module": "@jupyter-widgets/controls",
            "_model_module_version": "1.5.0",
            "_model_name": "HTMLModel",
            "_view_count": null,
            "_view_module": "@jupyter-widgets/controls",
            "_view_module_version": "1.5.0",
            "_view_name": "HTMLView",
            "description": "",
            "description_tooltip": null,
            "layout": "IPY_MODEL_325643ac96c44f1fa052657f79ea40ed",
            "placeholder": "​",
            "style": "IPY_MODEL_26d54258cd934d69b0bd8fa440c37e6d",
            "value": "model.safetensors: 100%"
          }
        },
        "774fdc223e134675a4ef4e57a463f035": {
          "model_module": "@jupyter-widgets/controls",
          "model_name": "FloatProgressModel",
          "model_module_version": "1.5.0",
          "state": {
            "_dom_classes": [],
            "_model_module": "@jupyter-widgets/controls",
            "_model_module_version": "1.5.0",
            "_model_name": "FloatProgressModel",
            "_view_count": null,
            "_view_module": "@jupyter-widgets/controls",
            "_view_module_version": "1.5.0",
            "_view_name": "ProgressView",
            "bar_style": "success",
            "description": "",
            "description_tooltip": null,
            "layout": "IPY_MODEL_7a8d470e528647e897a4f720e59ee4d8",
            "max": 267954768,
            "min": 0,
            "orientation": "horizontal",
            "style": "IPY_MODEL_fb21d1cac1f24dcd9327fedfe92458fa",
            "value": 267954768
          }
        },
        "ab28c0fecf99479b9ee65e4e7357b561": {
          "model_module": "@jupyter-widgets/controls",
          "model_name": "HTMLModel",
          "model_module_version": "1.5.0",
          "state": {
            "_dom_classes": [],
            "_model_module": "@jupyter-widgets/controls",
            "_model_module_version": "1.5.0",
            "_model_name": "HTMLModel",
            "_view_count": null,
            "_view_module": "@jupyter-widgets/controls",
            "_view_module_version": "1.5.0",
            "_view_name": "HTMLView",
            "description": "",
            "description_tooltip": null,
            "layout": "IPY_MODEL_1cc6f501f9074efea06082e3ffdee57d",
            "placeholder": "​",
            "style": "IPY_MODEL_34d1bf685149425283f452066e1d85b8",
            "value": " 268M/268M [00:01&lt;00:00, 225MB/s]"
          }
        },
        "8f2b3f32e3624529af1eddb6914b693f": {
          "model_module": "@jupyter-widgets/base",
          "model_name": "LayoutModel",
          "model_module_version": "1.2.0",
          "state": {
            "_model_module": "@jupyter-widgets/base",
            "_model_module_version": "1.2.0",
            "_model_name": "LayoutModel",
            "_view_count": null,
            "_view_module": "@jupyter-widgets/base",
            "_view_module_version": "1.2.0",
            "_view_name": "LayoutView",
            "align_content": null,
            "align_items": null,
            "align_self": null,
            "border": null,
            "bottom": null,
            "display": null,
            "flex": null,
            "flex_flow": null,
            "grid_area": null,
            "grid_auto_columns": null,
            "grid_auto_flow": null,
            "grid_auto_rows": null,
            "grid_column": null,
            "grid_gap": null,
            "grid_row": null,
            "grid_template_areas": null,
            "grid_template_columns": null,
            "grid_template_rows": null,
            "height": null,
            "justify_content": null,
            "justify_items": null,
            "left": null,
            "margin": null,
            "max_height": null,
            "max_width": null,
            "min_height": null,
            "min_width": null,
            "object_fit": null,
            "object_position": null,
            "order": null,
            "overflow": null,
            "overflow_x": null,
            "overflow_y": null,
            "padding": null,
            "right": null,
            "top": null,
            "visibility": null,
            "width": null
          }
        },
        "325643ac96c44f1fa052657f79ea40ed": {
          "model_module": "@jupyter-widgets/base",
          "model_name": "LayoutModel",
          "model_module_version": "1.2.0",
          "state": {
            "_model_module": "@jupyter-widgets/base",
            "_model_module_version": "1.2.0",
            "_model_name": "LayoutModel",
            "_view_count": null,
            "_view_module": "@jupyter-widgets/base",
            "_view_module_version": "1.2.0",
            "_view_name": "LayoutView",
            "align_content": null,
            "align_items": null,
            "align_self": null,
            "border": null,
            "bottom": null,
            "display": null,
            "flex": null,
            "flex_flow": null,
            "grid_area": null,
            "grid_auto_columns": null,
            "grid_auto_flow": null,
            "grid_auto_rows": null,
            "grid_column": null,
            "grid_gap": null,
            "grid_row": null,
            "grid_template_areas": null,
            "grid_template_columns": null,
            "grid_template_rows": null,
            "height": null,
            "justify_content": null,
            "justify_items": null,
            "left": null,
            "margin": null,
            "max_height": null,
            "max_width": null,
            "min_height": null,
            "min_width": null,
            "object_fit": null,
            "object_position": null,
            "order": null,
            "overflow": null,
            "overflow_x": null,
            "overflow_y": null,
            "padding": null,
            "right": null,
            "top": null,
            "visibility": null,
            "width": null
          }
        },
        "26d54258cd934d69b0bd8fa440c37e6d": {
          "model_module": "@jupyter-widgets/controls",
          "model_name": "DescriptionStyleModel",
          "model_module_version": "1.5.0",
          "state": {
            "_model_module": "@jupyter-widgets/controls",
            "_model_module_version": "1.5.0",
            "_model_name": "DescriptionStyleModel",
            "_view_count": null,
            "_view_module": "@jupyter-widgets/base",
            "_view_module_version": "1.2.0",
            "_view_name": "StyleView",
            "description_width": ""
          }
        },
        "7a8d470e528647e897a4f720e59ee4d8": {
          "model_module": "@jupyter-widgets/base",
          "model_name": "LayoutModel",
          "model_module_version": "1.2.0",
          "state": {
            "_model_module": "@jupyter-widgets/base",
            "_model_module_version": "1.2.0",
            "_model_name": "LayoutModel",
            "_view_count": null,
            "_view_module": "@jupyter-widgets/base",
            "_view_module_version": "1.2.0",
            "_view_name": "LayoutView",
            "align_content": null,
            "align_items": null,
            "align_self": null,
            "border": null,
            "bottom": null,
            "display": null,
            "flex": null,
            "flex_flow": null,
            "grid_area": null,
            "grid_auto_columns": null,
            "grid_auto_flow": null,
            "grid_auto_rows": null,
            "grid_column": null,
            "grid_gap": null,
            "grid_row": null,
            "grid_template_areas": null,
            "grid_template_columns": null,
            "grid_template_rows": null,
            "height": null,
            "justify_content": null,
            "justify_items": null,
            "left": null,
            "margin": null,
            "max_height": null,
            "max_width": null,
            "min_height": null,
            "min_width": null,
            "object_fit": null,
            "object_position": null,
            "order": null,
            "overflow": null,
            "overflow_x": null,
            "overflow_y": null,
            "padding": null,
            "right": null,
            "top": null,
            "visibility": null,
            "width": null
          }
        },
        "fb21d1cac1f24dcd9327fedfe92458fa": {
          "model_module": "@jupyter-widgets/controls",
          "model_name": "ProgressStyleModel",
          "model_module_version": "1.5.0",
          "state": {
            "_model_module": "@jupyter-widgets/controls",
            "_model_module_version": "1.5.0",
            "_model_name": "ProgressStyleModel",
            "_view_count": null,
            "_view_module": "@jupyter-widgets/base",
            "_view_module_version": "1.2.0",
            "_view_name": "StyleView",
            "bar_color": null,
            "description_width": ""
          }
        },
        "1cc6f501f9074efea06082e3ffdee57d": {
          "model_module": "@jupyter-widgets/base",
          "model_name": "LayoutModel",
          "model_module_version": "1.2.0",
          "state": {
            "_model_module": "@jupyter-widgets/base",
            "_model_module_version": "1.2.0",
            "_model_name": "LayoutModel",
            "_view_count": null,
            "_view_module": "@jupyter-widgets/base",
            "_view_module_version": "1.2.0",
            "_view_name": "LayoutView",
            "align_content": null,
            "align_items": null,
            "align_self": null,
            "border": null,
            "bottom": null,
            "display": null,
            "flex": null,
            "flex_flow": null,
            "grid_area": null,
            "grid_auto_columns": null,
            "grid_auto_flow": null,
            "grid_auto_rows": null,
            "grid_column": null,
            "grid_gap": null,
            "grid_row": null,
            "grid_template_areas": null,
            "grid_template_columns": null,
            "grid_template_rows": null,
            "height": null,
            "justify_content": null,
            "justify_items": null,
            "left": null,
            "margin": null,
            "max_height": null,
            "max_width": null,
            "min_height": null,
            "min_width": null,
            "object_fit": null,
            "object_position": null,
            "order": null,
            "overflow": null,
            "overflow_x": null,
            "overflow_y": null,
            "padding": null,
            "right": null,
            "top": null,
            "visibility": null,
            "width": null
          }
        },
        "34d1bf685149425283f452066e1d85b8": {
          "model_module": "@jupyter-widgets/controls",
          "model_name": "DescriptionStyleModel",
          "model_module_version": "1.5.0",
          "state": {
            "_model_module": "@jupyter-widgets/controls",
            "_model_module_version": "1.5.0",
            "_model_name": "DescriptionStyleModel",
            "_view_count": null,
            "_view_module": "@jupyter-widgets/base",
            "_view_module_version": "1.2.0",
            "_view_name": "StyleView",
            "description_width": ""
          }
        }
      }
    }
  },
  "nbformat": 4,
  "nbformat_minor": 0
}